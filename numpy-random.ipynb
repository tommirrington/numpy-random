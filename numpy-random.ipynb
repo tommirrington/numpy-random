{
 "cells": [
  {
   "cell_type": "markdown",
   "metadata": {},
   "source": [
    "# The Numpy.Random Package"
   ]
  },
  {
   "cell_type": "markdown",
   "metadata": {},
   "source": [
    "## 1. Overview\n",
    "\n",
    "References:\n",
    "- https://docs.scipy.org/doc/numpy-1.15.1/reference/routines.random.html\n",
    "- https://www.oreilly.com/library/view/python-for-data/9781491957653/\n",
    "    \n",
    "NumPy which is short for Numerical Python is a package within python used for carrying out numerical computations using vectorized data and multidimensional arrays.  It is a foundation package that is in other scientfic and data modelling packages such as Pandas.\n",
    " \n",
    "The numpy.random module sits within the NumPy package and is used for pseudorandom number generation for creating whole arrays of randomised values using a variety of probability distributions."
   ]
  },
  {
   "cell_type": "code",
   "execution_count": 1,
   "metadata": {},
   "outputs": [],
   "source": [
    "import numpy as np\n",
    "import matplotlib.pyplot as plt\n"
   ]
  },
  {
   "cell_type": "markdown",
   "metadata": {},
   "source": [
    "## 2. Simple Random Data and Permutations Function\n"
   ]
  },
  {
   "cell_type": "markdown",
   "metadata": {},
   "source": [
    "### Simple Random Data\n",
    "\n",
    "References:\n",
    "- https://docs.scipy.org/doc/numpy-1.15.1/reference/routines.random.html#\n",
    "\n",
    "The simple random data functions in numpy.random are a collection of functions for generating psuedorandom numbers in multidimensional arrays.\n",
    "\n",
    "\n"
   ]
  },
  {
   "cell_type": "code",
   "execution_count": 2,
   "metadata": {},
   "outputs": [
    {
     "data": {
      "text/plain": [
       "array([0.27856364, 0.12878658, 0.81388335, ..., 0.71526922, 0.58782975,\n",
       "       0.821741  ])"
      ]
     },
     "execution_count": 2,
     "metadata": {},
     "output_type": "execute_result"
    }
   ],
   "source": [
    "x = np.random.rand(10000)\n",
    "x"
   ]
  },
  {
   "cell_type": "code",
   "execution_count": 3,
   "metadata": {},
   "outputs": [
    {
     "data": {
      "text/plain": [
       "(array([ 975.,  978., 1021.,  975.,  973., 1010., 1037., 1007., 1035.,\n",
       "         989.]),\n",
       " array([1.45433398e-05, 9.99744054e-02, 1.99934267e-01, 2.99894129e-01,\n",
       "        3.99853991e-01, 4.99813853e-01, 5.99773715e-01, 6.99733578e-01,\n",
       "        7.99693440e-01, 8.99653302e-01, 9.99613164e-01]),\n",
       " <a list of 10 Patch objects>)"
      ]
     },
     "execution_count": 3,
     "metadata": {},
     "output_type": "execute_result"
    },
    {
     "data": {
      "image/png": "[encoded data removed]",
      "text/plain": [
       "<Figure size 432x288 with 1 Axes>"
      ]
     },
     "metadata": {
      "needs_background": "light"
     },
     "output_type": "display_data"
    }
   ],
   "source": [
    "\n",
    "plt.hist(x)"
   ]
  },
  {
   "cell_type": "code",
   "execution_count": 4,
   "metadata": {},
   "outputs": [
    {
     "data": {
      "text/plain": [
       "(array([1073.,  966.,  997., 1012.,  994., 1001.,  936., 1035., 1009.,\n",
       "         977.]),\n",
       " array([1.96986153e-04, 1.00153638e-01, 2.00110289e-01, 3.00066941e-01,\n",
       "        4.00023593e-01, 4.99980244e-01, 5.99936896e-01, 6.99893548e-01,\n",
       "        7.99850199e-01, 8.99806851e-01, 9.99763503e-01]),\n",
       " <a list of 10 Patch objects>)"
      ]
     },
     "execution_count": 4,
     "metadata": {},
     "output_type": "execute_result"
    },
    {
     "data": {
      "image/png": "[encoded data removed]",
      "text/plain": [
       "<Figure size 432x288 with 1 Axes>"
      ]
     },
     "metadata": {
      "needs_background": "light"
     },
     "output_type": "display_data"
    }
   ],
   "source": [
    "x = np.random.random_sample(10000)\n",
    "x\n",
    "plt.hist(x)"
   ]
  },
  {
   "cell_type": "markdown",
   "metadata": {},
   "source": [
    "## 3. Distributions\n",
    "\n",
    "The distributions collection of functions are used for generating psuedorandom samples using different probability distributions in which parameters for the distribution can be specified."
   ]
  },
  {
   "cell_type": "markdown",
   "metadata": {},
   "source": [
    "### Uniform distribution\n",
    "\n",
    "References:\n",
    "- https://www.statisticshowto.datasciencecentral.com/uniform-distribution/\n",
    "- https://docs.scipy.org/doc/numpy-1.15.1/reference/generated/numpy.random.uniform.html#numpy.random.uniform\n",
    "\n",
    "A uniform distribution or rectangular distribution has a constant probability for every value in a sample.  It is written a U(a,b) where a is the maximum and b is the minimum value.  To call the function in the random module use numpy.random.uniform(low,high,size).  This is the distribution used in the numpy.random.rand fuctions.\n",
    "\n",
    "The example below shows a uniform distribution for a sample size of 1000 values between -1 and 0.\n"
   ]
  },
  {
   "cell_type": "code",
   "execution_count": 27,
   "metadata": {},
   "outputs": [
    {
     "data": {
      "text/plain": [
       "(array([109.,  81.,  92.,  85., 105., 102., 112., 122.,  93.,  99.]),\n",
       " array([-9.99186952e-01, -8.99301504e-01, -7.99416057e-01, -6.99530610e-01,\n",
       "        -5.99645162e-01, -4.99759715e-01, -3.99874268e-01, -2.99988820e-01,\n",
       "        -2.00103373e-01, -1.00217926e-01, -3.32478168e-04]),\n",
       " <a list of 10 Patch objects>)"
      ]
     },
     "execution_count": 27,
     "metadata": {},
     "output_type": "execute_result"
    },
    {
     "data": {
      "image/png": "[encoded data removed]",
      "text/plain": [
       "<Figure size 432x288 with 1 Axes>"
      ]
     },
     "metadata": {
      "needs_background": "light"
     },
     "output_type": "display_data"
    }
   ],
   "source": [
    "x = np.random.uniform(-1,0,1000)\n",
    "x\n",
    "plt.hist(x)"
   ]
  },
  {
   "cell_type": "code",
   "execution_count": null,
   "metadata": {},
   "outputs": [],
   "source": []
  },
  {
   "cell_type": "markdown",
   "metadata": {},
   "source": [
    "### Normal Distribution\n",
    "\n",
    "References:\n",
    "- https://www.mathsisfun.com/data/standard-normal-distribution.html\n",
    "- https://docs.scipy.org/doc/numpy-1.15.1/reference/generated/numpy.random.normal.html#numpy.random.normal\n",
    "\n",
    "A normal distribution is where data is distributed evenly around a central value with no bias left or right.  The distribution has the following characteristics:\n",
    "- The mean, mode and median are approximately equal \n",
    "- There is symmetry around the centre and ~50% of values are greater than the mean and ~50% of values are less than th mean\n",
    "- The standard deviation is a measure of how the values are distributed around the mean value and 95% of values are within 1 std dev of the mean, 95% within 2 std devs and 99.7% within 3 std devs\n",
    "- The normal distribution is often refered to as a \"bell curve: due to the resultant shape of the plot\n",
    "\n",
    "The histogram below shows a normal distribution of 1000 values with a mean of 0 and a standard deviation of 0.1\n",
    "\n",
    "The numpy function numpy.random.normal(loc,scale,size) where loc is the mean, scale is the std dev and size is the sample size.\n"
   ]
  },
  {
   "cell_type": "code",
   "execution_count": 30,
   "metadata": {},
   "outputs": [
    {
     "data": {
      "text/plain": [
       "(array([  9.,  35.,  81., 190., 216., 230., 160.,  62.,  14.,   3.]),\n",
       " array([-0.29798753, -0.23589645, -0.17380536, -0.11171428, -0.04962319,\n",
       "         0.01246789,  0.07455898,  0.13665006,  0.19874115,  0.26083223,\n",
       "         0.32292332]),\n",
       " <a list of 10 Patch objects>)"
      ]
     },
     "execution_count": 30,
     "metadata": {},
     "output_type": "execute_result"
    },
    {
     "data": {
      "image/png": "[encoded data removed]",
      "text/plain": [
       "<Figure size 432x288 with 1 Axes>"
      ]
     },
     "metadata": {
      "needs_background": "light"
     },
     "output_type": "display_data"
    }
   ],
   "source": [
    "x = np.random.normal(0, 0.1, 1000)\n",
    "plt.hist(x)"
   ]
  },
  {
   "cell_type": "markdown",
   "metadata": {},
   "source": [
    "### Chi Square Distribution\n",
    "\n",
    "References:\n",
    "- http://onlinestatbook.com/2/chi_square/distribution.html\n",
    "- https://docs.scipy.org/doc/numpy-1.15.1/reference/generated/numpy.random.chisquare.html#numpy.random.chisquare\n",
    "\n",
    "A sample from a random normal distribution is known as the standard normal deviates and the sum of these is known as the Chi square distribution.\n",
    "\n",
    "The degrees of freedom is the number of independent variables in a sample so in the case of a chi square distribution this will be the number of standard normal deviates.  The mean of a chi square distribution is the degrees of freedom in the sample.\n",
    "\n",
    "Chi square distributions are used to test how observed data differs from thoretical expectations.\n",
    "\n",
    "The numpy.randon.chisquare(df,size) uses the parameters 'df' for the degrees of freedon and size for the sample size.\n",
    "\n",
    "The histograms below show the chi square distributions for 2,10 and 50 degrees of freedom and it can be seen that as the df increses the distribution becomes more representative of the bell shaped curve of the normal distribution."
   ]
  },
  {
   "cell_type": "code",
   "execution_count": 9,
   "metadata": {},
   "outputs": [
    {
     "data": {
      "text/plain": [
       "(array([502., 232., 125.,  76.,  29.,  14.,  12.,   6.,   1.,   3.]),\n",
       " array([1.36041719e-03, 1.36012058e+00, 2.71888074e+00, 4.07764091e+00,\n",
       "        5.43640107e+00, 6.79516123e+00, 8.15392140e+00, 9.51268156e+00,\n",
       "        1.08714417e+01, 1.22302019e+01, 1.35889620e+01]),\n",
       " <a list of 10 Patch objects>)"
      ]
     },
     "execution_count": 9,
     "metadata": {},
     "output_type": "execute_result"
    },
    {
     "data": {
      "image/png": "[encoded data removed]",
      "text/plain": [
       "<Figure size 432x288 with 1 Axes>"
      ]
     },
     "metadata": {
      "needs_background": "light"
     },
     "output_type": "display_data"
    }
   ],
   "source": [
    "x = np.random.chisquare(2,1000)\n",
    "x\n",
    "plt.hist(x)"
   ]
  },
  {
   "cell_type": "code",
   "execution_count": null,
   "metadata": {},
   "outputs": [],
   "source": []
  },
  {
   "cell_type": "code",
   "execution_count": 22,
   "metadata": {},
   "outputs": [
    {
     "data": {
      "text/plain": [
       "(array([ 57., 245., 258., 221., 126.,  54.,  24.,   9.,   4.,   2.]),\n",
       " array([ 1.39480936,  4.33918149,  7.28355361, 10.22792573, 13.17229786,\n",
       "        16.11666998, 19.06104211, 22.00541423, 24.94978636, 27.89415848,\n",
       "        30.8385306 ]),\n",
       " <a list of 10 Patch objects>)"
      ]
     },
     "execution_count": 22,
     "metadata": {},
     "output_type": "execute_result"
    },
    {
     "data": {
      "image/png": "[encoded data removed]",
      "text/plain": [
       "<Figure size 432x288 with 1 Axes>"
      ]
     },
     "metadata": {
      "needs_background": "light"
     },
     "output_type": "display_data"
    }
   ],
   "source": [
    "y = np.random.chisquare(10,1000)\n",
    "y\n",
    "plt.hist(y, color='g')"
   ]
  },
  {
   "cell_type": "code",
   "execution_count": 25,
   "metadata": {},
   "outputs": [
    {
     "data": {
      "text/plain": [
       "(array([ 43., 113., 242., 216., 191., 111.,  59.,  19.,   3.,   3.]),\n",
       " array([27.85135218, 34.0760189 , 40.30068563, 46.52535236, 52.75001909,\n",
       "        58.97468582, 65.19935254, 71.42401927, 77.648686  , 83.87335273,\n",
       "        90.09801946]),\n",
       " <a list of 10 Patch objects>)"
      ]
     },
     "execution_count": 25,
     "metadata": {},
     "output_type": "execute_result"
    },
    {
     "data": {
      "image/png": "[encoded data removed]",
      "text/plain": [
       "<Figure size 432x288 with 1 Axes>"
      ]
     },
     "metadata": {
      "needs_background": "light"
     },
     "output_type": "display_data"
    }
   ],
   "source": [
    "z = np.random.chisquare(50,1000)\n",
    "z\n",
    "plt.hist(z, color='r')"
   ]
  },
  {
   "cell_type": "markdown",
   "metadata": {},
   "source": [
    "### Poisson Distribution\n",
    "\n",
    "References:\n",
    "- https://docs.scipy.org/doc/numpy-1.15.1/reference/generated/numpy.random.poisson.html#numpy.random.poisson\n",
    "- https://stattrek.com/probability-distributions/poisson.aspx\n",
    "- http://www.stats.ox.ac.uk/~marchini/teaching/L5/L5.notes.pdf\n",
    "- https://www.ck12.org/section/The-Poisson-Probability-Distribution/\n",
    "\n",
    "This applies to situations when a count for the number of occurences of an event is observed within a set unit of time, these situations are known as Poisson experiments and result in a poisson distribution.  The poisson distribution is the discrete probability distribution of events occuring randomly in a given time interval.  An example of a poissson experiment is the number of births per hour during a given day.\n",
    "\n",
    "In a poisson distribution each event is independent of all others and the probability of an event occuring in a given time, distance, area or volume is the same.\n",
    "\n",
    "The python syntax required is numpy.random.poisson(lam=1.0, size=None)\n",
    "where lam is the observed time interval and sixe is the sample size."
   ]
  },
  {
   "cell_type": "code",
   "execution_count": 19,
   "metadata": {},
   "outputs": [
    {
     "data": {
      "text/plain": [
       "(array([ 33.,  74., 155., 191., 183., 248.,  55.,  31.,  20.,  10.]),\n",
       " array([ 0. ,  1.2,  2.4,  3.6,  4.8,  6. ,  7.2,  8.4,  9.6, 10.8, 12. ]),\n",
       " <a list of 10 Patch objects>)"
      ]
     },
     "execution_count": 19,
     "metadata": {},
     "output_type": "execute_result"
    },
    {
     "data": {
      "image/png": "[encoded data removed]",
      "text/plain": [
       "<Figure size 432x288 with 1 Axes>"
      ]
     },
     "metadata": {
      "needs_background": "light"
     },
     "output_type": "display_data"
    }
   ],
   "source": [
    "x = np.random.poisson(5, 1000)\n",
    "x\n",
    "plt.hist(x)"
   ]
  },
  {
   "cell_type": "markdown",
   "metadata": {},
   "source": [
    "### Exponential Distribution\n",
    "\n",
    "References:\n",
    "- The Exponential Distribution Made EASY! https://www.youtube.com/watch?v=bKkLYSi5XNE\n",
    "- https://www.statisticshowto.datasciencecentral.com/exponential-distribution/\n",
    "\n",
    " The Exponential distribution describes the time taken between two events occuring in a poisson experiment.  If we consider the poisson experiment to be the number of births per hour during a given day the then exponential distribution can be used to model the time in between the births.\n",
    "\n",
    "\n"
   ]
  },
  {
   "cell_type": "code",
   "execution_count": 49,
   "metadata": {},
   "outputs": [
    {
     "data": {
      "text/plain": [
       "(array([5.683e+03, 2.486e+03, 1.030e+03, 4.750e+02, 1.850e+02, 8.300e+01,\n",
       "        3.300e+01, 1.600e+01, 3.000e+00, 6.000e+00]),\n",
       " array([2.88249439e-07, 8.34606807e-04, 1.66892536e-03, 2.50324392e-03,\n",
       "        3.33756248e-03, 4.17188104e-03, 5.00619959e-03, 5.84051815e-03,\n",
       "        6.67483671e-03, 7.50915527e-03, 8.34347382e-03]),\n",
       " <a list of 10 Patch objects>)"
      ]
     },
     "execution_count": 49,
     "metadata": {},
     "output_type": "execute_result"
    },
    {
     "data": {
      "image/png": "[encoded data removed]",
      "text/plain": [
       "<Figure size 432x288 with 1 Axes>"
      ]
     },
     "metadata": {
      "needs_background": "light"
     },
     "output_type": "display_data"
    }
   ],
   "source": [
    "y = np.random.exponential(0.001,10000)\n",
    "y\n",
    "plt.hist(y)"
   ]
  },
  {
   "cell_type": "markdown",
   "metadata": {},
   "source": [
    "## 4. Seeds\n",
    "\n",
    "- https://www.packtpub.com/mapt/book/big_data_and_business_intelligence/9781785285110/2/ch02lvl1sec16/numpy-random-numbers\n",
    "- https://www.oreilly.com/library/view/python-for-data/9781491957653/\n",
    "- https://docs.scipy.org/doc/numpy-1.15.1/reference/generated/numpy.random.RandomState.html#numpy.random.RandomState\n",
    "\n",
    "The random numbers in numpy are known as psuedorandom numbers because they are generated using an algorithim and deterministic behaviour based on the seed of the random state generator. The algorithim used is called the Mersenne Twister and this requires a seed or a base value from which to generate numbers. The seed is an integer value between 0 and 2**32 and does not need to be random so that specific seeds can be used to obtain a known sequence of numbers.\n",
    "\n",
    "numpy.random.seed() is the function with the RandomSate class that is used to reset the integer value for the seed."
   ]
  },
  {
   "cell_type": "code",
   "execution_count": 12,
   "metadata": {},
   "outputs": [
    {
     "data": {
      "text/plain": [
       "array([ 8, 24, 67, 87, 79, 48, 10, 94, 52, 98])"
      ]
     },
     "execution_count": 12,
     "metadata": {},
     "output_type": "execute_result"
    }
   ],
   "source": [
    "np.random.seed(100)\n",
    "x = np.random.randint(0,101,10)\n",
    "x"
   ]
  },
  {
   "cell_type": "code",
   "execution_count": null,
   "metadata": {},
   "outputs": [],
   "source": []
  }
 ],
 "metadata": {
  "kernelspec": {
   "display_name": "Python 3",
   "language": "python",
   "name": "python3"
  },
  "language_info": {
   "codemirror_mode": {
    "name": "ipython",
    "version": 3
   },
   "file_extension": ".py",
   "mimetype": "text/x-python",
   "name": "python",
   "nbconvert_exporter": "python",
   "pygments_lexer": "ipython3",
   "version": "3.7.0"
  }
 },
 "nbformat": 4,
 "nbformat_minor": 2
}
