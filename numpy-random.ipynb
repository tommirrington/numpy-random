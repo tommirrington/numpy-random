{
 "cells": [
  {
   "cell_type": "markdown",
   "metadata": {},
   "source": [
    "# The Numpy.Random Package"
   ]
  },
  {
   "cell_type": "markdown",
   "metadata": {},
   "source": [
    "## 1. Overview\n",
    "\n",
    "References:\n",
    "- https://docs.scipy.org/doc/numpy-1.15.1/reference/routines.random.html\n",
    "- https://www.oreilly.com/library/view/python-for-data/9781491957653/\n",
    "    \n",
    "NumPy which is short for Numerical Python is a package within python used for carrying out numerical computations using vectorized data and multidimensional arrays.  It is a foundation package that is in other scientfic and data modelling packages such as Pandas.\n",
    " \n",
    "The numpy.random module sits within the NumPy package and is used for pseudorandom number generation for creating whole arrays of randomised values using a variety of probability distributions."
   ]
  },
  {
   "cell_type": "code",
   "execution_count": 1,
   "metadata": {},
   "outputs": [],
   "source": [
    "import numpy as np\n",
    "import matplotlib.pyplot as plt\n"
   ]
  },
  {
   "cell_type": "markdown",
   "metadata": {},
   "source": [
    "## 2. Simple Random Data and Permutations Function\n"
   ]
  },
  {
   "cell_type": "markdown",
   "metadata": {},
   "source": [
    "### Simple Random Data\n",
    "\n",
    "References:\n",
    "- https://docs.scipy.org/doc/numpy-1.15.1/reference/routines.random.html#\n",
    "\n",
    "The simple random data functions in numpy.random are a collection of functions for generating psuedorandom numbers in multidimensional arrays.\n",
    "\n",
    "The np.random.rand function provides psuedorandom float numbers between 0 and 1.  The parameters specify the shape of the array. There are two examples below, the first specifies a single array of five values, the second specifies five arrays of five arrays each containing a further five arrays.\n"
   ]
  },
  {
   "cell_type": "code",
   "execution_count": 15,
   "metadata": {},
   "outputs": [
    {
     "data": {
      "text/plain": [
       "array([0.92632273, 0.4430793 , 0.09659569, 0.58935854, 0.26666311])"
      ]
     },
     "execution_count": 15,
     "metadata": {},
     "output_type": "execute_result"
    }
   ],
   "source": [
    "x = np.random.rand(5)\n",
    "x"
   ]
  },
  {
   "cell_type": "code",
   "execution_count": 16,
   "metadata": {},
   "outputs": [
    {
     "data": {
      "text/plain": [
       "array([[[0.86509261, 0.73016179, 0.66762215, 0.83644659, 0.61426928],\n",
       "        [0.43733941, 0.95995878, 0.46753955, 0.47562637, 0.46039981],\n",
       "        [0.68167881, 0.56659185, 0.31551725, 0.79231239, 0.72503797],\n",
       "        [0.67736381, 0.61622235, 0.86424555, 0.18730688, 0.46324241],\n",
       "        [0.46151624, 0.83274617, 0.2173447 , 0.39237261, 0.59809432]],\n",
       "\n",
       "       [[0.20396821, 0.68873138, 0.95396681, 0.75683992, 0.34737334],\n",
       "        [0.59391272, 0.46588753, 0.38959141, 0.26984943, 0.81147384],\n",
       "        [0.62253758, 0.14705759, 0.23029177, 0.23949442, 0.5058014 ],\n",
       "        [0.68666929, 0.91770621, 0.850268  , 0.2340435 , 0.45776582],\n",
       "        [0.33782611, 0.27200707, 0.90090793, 0.11624574, 0.20667958]],\n",
       "\n",
       "       [[0.65423725, 0.424023  , 0.92973883, 0.71207368, 0.16841407],\n",
       "        [0.59638116, 0.47356195, 0.70605881, 0.20200661, 0.71075827],\n",
       "        [0.71961524, 0.70862618, 0.23286039, 0.51492549, 0.79561946],\n",
       "        [0.38473015, 0.95201529, 0.02815936, 0.2364627 , 0.66273549],\n",
       "        [0.04416497, 0.8125043 , 0.24659062, 0.05151803, 0.9404928 ]],\n",
       "\n",
       "       [[0.85570655, 0.20355513, 0.88492034, 0.85810331, 0.97040999],\n",
       "        [0.26050151, 0.89314187, 0.69239494, 0.97596022, 0.97777483],\n",
       "        [0.86157767, 0.38878624, 0.54823922, 0.78634064, 0.28462094],\n",
       "        [0.19026923, 0.38471805, 0.59581299, 0.99043169, 0.79444808],\n",
       "        [0.99789841, 0.77163035, 0.91724232, 0.36142687, 0.55546225]],\n",
       "\n",
       "       [[0.33396314, 0.90327824, 0.31042195, 0.70091459, 0.65984252],\n",
       "        [0.81388252, 0.50802497, 0.55759588, 0.97633864, 0.57613769],\n",
       "        [0.67441849, 0.70583107, 0.86293962, 0.56495778, 0.11730931],\n",
       "        [0.40730425, 0.77147497, 0.77713452, 0.47832364, 0.05311583],\n",
       "        [0.60630082, 0.74515489, 0.00307779, 0.48258888, 0.77223209]]])"
      ]
     },
     "execution_count": 16,
     "metadata": {},
     "output_type": "execute_result"
    }
   ],
   "source": [
    "x = np.random.rand(5,5,5)\n",
    "x"
   ]
  },
  {
   "cell_type": "markdown",
   "metadata": {},
   "source": [
    "Plotting a histogram of 10000 randomly genearted values using the random.ran function shows a unfirom ditribution of values with an approximately even probability that any one value will occur."
   ]
  },
  {
   "cell_type": "code",
   "execution_count": 3,
   "metadata": {},
   "outputs": [
    {
     "data": {
      "text/plain": [
       "(array([1003., 1023.,  995.,  937., 1002., 1034.,  965.,  991., 1072.,\n",
       "         978.]),\n",
       " array([1.22213561e-04, 1.00081422e-01, 2.00040630e-01, 2.99999838e-01,\n",
       "        3.99959046e-01, 4.99918254e-01, 5.99877462e-01, 6.99836670e-01,\n",
       "        7.99795879e-01, 8.99755087e-01, 9.99714295e-01]),\n",
       " <a list of 10 Patch objects>)"
      ]
     },
     "execution_count": 3,
     "metadata": {},
     "output_type": "execute_result"
    },
    {
     "data": {
      "image/png": "[encoded data removed]",
      "text/plain": [
       "<Figure size 432x288 with 1 Axes>"
      ]
     },
     "metadata": {
      "needs_background": "light"
     },
     "output_type": "display_data"
    }
   ],
   "source": [
    "x = np.random.rand(10000)\n",
    "x\n",
    "plt.hist(x)"
   ]
  },
  {
   "cell_type": "markdown",
   "metadata": {},
   "source": [
    "There are other methods of generating these randomised arrays, for example randn will generate an array conforming to a normal distribution and [randint](https://docs.scipy.org/doc/numpy-1.15.1/reference/generated/numpy.random.randint.html#numpy.random.randint) will generate an array of integer values between a low (inclusive) and high (exclusive) range.  The below code block generates an array of 10 integers between 1 and 100."
   ]
  },
  {
   "cell_type": "code",
   "execution_count": 17,
   "metadata": {},
   "outputs": [
    {
     "data": {
      "text/plain": [
       "array([61, 16,  1, 70, 81, 70,  6, 79, 19, 76])"
      ]
     },
     "execution_count": 17,
     "metadata": {},
     "output_type": "execute_result"
    }
   ],
   "source": [
    "x = np.random.randint(1,100,10)\n",
    "x"
   ]
  },
  {
   "cell_type": "markdown",
   "metadata": {},
   "source": [
    "The numpy.random descriptions often refers to half open intervals usng the notation  '[0.0, 1.0)' this refers to a range of values between 0.0 inclusive and 1.0 exclusive represented by the square and curved brackets.\n",
    "\n",
    "Several functions listed in the library are aliases for one another for example [random_sample](https://docs.scipy.org/doc/numpy-1.15.1/reference/generated/numpy.random.random_sample.html#numpy.random.random_sample) and [sample](https://docs.scipy.org/doc/numpy-1.15.1/reference/generated/numpy.random.sample.html#numpy.random.sample) use identical parameters and models for generating data."
   ]
  },
  {
   "cell_type": "code",
   "execution_count": 14,
   "metadata": {},
   "outputs": [
    {
     "name": "stdout",
     "output_type": "stream",
     "text": [
      "[0.18646718 0.21010774 0.4527399  ... 0.59407474 0.09425201 0.882832  ]\n"
     ]
    },
    {
     "data": {
      "text/plain": [
       "(array([1030., 1045.,  981.,  965., 1049., 1018., 1012.,  960.,  974.,\n",
       "         966.]),\n",
       " array([4.19310838e-05, 1.00037700e-01, 2.00033469e-01, 3.00029239e-01,\n",
       "        4.00025008e-01, 5.00020777e-01, 6.00016546e-01, 7.00012315e-01,\n",
       "        8.00008085e-01, 9.00003854e-01, 9.99999623e-01]),\n",
       " <a list of 10 Patch objects>)"
      ]
     },
     "execution_count": 14,
     "metadata": {},
     "output_type": "execute_result"
    },
    {
     "data": {
      "image/png": "[encoded data removed]",
      "text/plain": [
       "<Figure size 432x288 with 1 Axes>"
      ]
     },
     "metadata": {
      "needs_background": "light"
     },
     "output_type": "display_data"
    }
   ],
   "source": [
    "x = np.random.random_sample(10000)\n",
    "print(x)\n",
    "plt.hist(x)"
   ]
  },
  {
   "cell_type": "markdown",
   "metadata": {},
   "source": [
    "Another useful simple function is [choice](https://docs.scipy.org/doc/numpy-1.15.1/reference/generated/numpy.random.choice.html#numpy.random.choice)"
   ]
  },
  {
   "cell_type": "markdown",
   "metadata": {},
   "source": [
    "## 3. Distributions\n",
    "\n",
    "The distributions collection of functions are used for generating psuedorandom samples using different probability distributions in which parameters for the distribution can be specified."
   ]
  },
  {
   "cell_type": "markdown",
   "metadata": {},
   "source": [
    "### Uniform distribution\n",
    "\n",
    "References:\n",
    "- https://www.statisticshowto.datasciencecentral.com/uniform-distribution/\n",
    "- https://docs.scipy.org/doc/numpy-1.15.1/reference/generated/numpy.random.uniform.html#numpy.random.uniform\n",
    "\n",
    "A uniform distribution or rectangular distribution has a constant probability for every value in a sample.  It is written a U(a,b) where a is the maximum and b is the minimum value.  To call the function in the random module use numpy.random.uniform(low,high,size).  This is the distribution used in the numpy.random.rand fuctions.\n",
    "\n",
    "The example below shows a uniform distribution for a sample size of 1000 values between -1 and 0.\n"
   ]
  },
  {
   "cell_type": "code",
   "execution_count": 5,
   "metadata": {},
   "outputs": [
    {
     "data": {
      "text/plain": [
       "(array([102.,  89.,  84., 119.,  97., 104., 103.,  87., 114., 101.]),\n",
       " array([-0.99817216, -0.89865903, -0.7991459 , -0.69963277, -0.60011963,\n",
       "        -0.5006065 , -0.40109337, -0.30158024, -0.20206711, -0.10255397,\n",
       "        -0.00304084]),\n",
       " <a list of 10 Patch objects>)"
      ]
     },
     "execution_count": 5,
     "metadata": {},
     "output_type": "execute_result"
    },
    {
     "data": {
      "image/png": "[encoded data removed]",
      "text/plain": [
       "<Figure size 432x288 with 1 Axes>"
      ]
     },
     "metadata": {
      "needs_background": "light"
     },
     "output_type": "display_data"
    }
   ],
   "source": [
    "x = np.random.uniform(-1,0,1000)\n",
    "x\n",
    "plt.hist(x)"
   ]
  },
  {
   "cell_type": "code",
   "execution_count": null,
   "metadata": {},
   "outputs": [],
   "source": []
  },
  {
   "cell_type": "markdown",
   "metadata": {},
   "source": [
    "### Normal Distribution\n",
    "\n",
    "References:\n",
    "- https://www.mathsisfun.com/data/standard-normal-distribution.html\n",
    "- https://docs.scipy.org/doc/numpy-1.15.1/reference/generated/numpy.random.normal.html#numpy.random.normal\n",
    "\n",
    "A normal distribution is where data is distributed evenly around a central value with no bias left or right.  The distribution has the following characteristics:\n",
    "- The mean, mode and median are approximately equal \n",
    "- There is symmetry around the centre and ~50% of values are greater than the mean and ~50% of values are less than th mean\n",
    "- The standard deviation is a measure of how the values are distributed around the mean value and 95% of values are within 1 std dev of the mean, 95% within 2 std devs and 99.7% within 3 std devs\n",
    "- The normal distribution is often refered to as a \"bell curve: due to the resultant shape of the plot\n",
    "\n",
    "The histogram below shows a normal distribution of 1000 values with a mean of 0 and a standard deviation of 0.1\n",
    "\n",
    "The numpy function numpy.random.normal(loc,scale,size) where loc is the mean, scale is the std dev and size is the sample size.\n"
   ]
  },
  {
   "cell_type": "code",
   "execution_count": 6,
   "metadata": {},
   "outputs": [
    {
     "data": {
      "text/plain": [
       "(array([  7.,  26.,  98., 185., 280., 246.,  97.,  46.,  13.,   2.]),\n",
       " array([-0.30963474, -0.24242539, -0.17521605, -0.10800671, -0.04079737,\n",
       "         0.02641197,  0.09362132,  0.16083066,  0.22804   ,  0.29524934,\n",
       "         0.36245868]),\n",
       " <a list of 10 Patch objects>)"
      ]
     },
     "execution_count": 6,
     "metadata": {},
     "output_type": "execute_result"
    },
    {
     "data": {
      "image/png": "[encoded data removed]",
      "text/plain": [
       "<Figure size 432x288 with 1 Axes>"
      ]
     },
     "metadata": {
      "needs_background": "light"
     },
     "output_type": "display_data"
    }
   ],
   "source": [
    "x = np.random.normal(0, 0.1, 1000)\n",
    "plt.hist(x)"
   ]
  },
  {
   "cell_type": "markdown",
   "metadata": {},
   "source": [
    "### Chi Square Distribution\n",
    "\n",
    "References:\n",
    "- http://onlinestatbook.com/2/chi_square/distribution.html\n",
    "- https://docs.scipy.org/doc/numpy-1.15.1/reference/generated/numpy.random.chisquare.html#numpy.random.chisquare\n",
    "\n",
    "A sample from a random normal distribution is known as the standard normal deviates and the sum of these is known as the Chi square distribution.\n",
    "\n",
    "The degrees of freedom is the number of independent variables in a sample so in the case of a chi square distribution this will be the number of standard normal deviates.  The mean of a chi square distribution is the degrees of freedom in the sample.\n",
    "\n",
    "Chi square distributions are used to test how observed data differs from thoretical expectations.\n",
    "\n",
    "The numpy.randon.chisquare(df,size) uses the parameters 'df' for the degrees of freedon and size for the sample size.\n",
    "\n",
    "The histograms below show the chi square distributions for 2,10 and 50 degrees of freedom and it can be seen that as the df increses the distribution becomes more representative of the bell shaped curve of the normal distribution."
   ]
  },
  {
   "cell_type": "code",
   "execution_count": 7,
   "metadata": {},
   "outputs": [
    {
     "data": {
      "text/plain": [
       "(array([470., 250., 114.,  92.,  40.,  10.,  14.,   5.,   4.,   1.]),\n",
       " array([3.98181757e-03, 1.31396048e+00, 2.62393914e+00, 3.93391780e+00,\n",
       "        5.24389646e+00, 6.55387512e+00, 7.86385378e+00, 9.17383244e+00,\n",
       "        1.04838111e+01, 1.17937898e+01, 1.31037684e+01]),\n",
       " <a list of 10 Patch objects>)"
      ]
     },
     "execution_count": 7,
     "metadata": {},
     "output_type": "execute_result"
    },
    {
     "data": {
      "image/png": "[encoded data removed]",
      "text/plain": [
       "<Figure size 432x288 with 1 Axes>"
      ]
     },
     "metadata": {
      "needs_background": "light"
     },
     "output_type": "display_data"
    }
   ],
   "source": [
    "x = np.random.chisquare(2,1000)\n",
    "x\n",
    "plt.hist(x)"
   ]
  },
  {
   "cell_type": "code",
   "execution_count": null,
   "metadata": {},
   "outputs": [],
   "source": []
  },
  {
   "cell_type": "code",
   "execution_count": 8,
   "metadata": {},
   "outputs": [
    {
     "data": {
      "text/plain": [
       "(array([ 75., 282., 290., 204.,  87.,  40.,  12.,   8.,   1.,   1.]),\n",
       " array([ 1.3553164 ,  4.58927678,  7.82323716, 11.05719754, 14.29115792,\n",
       "        17.5251183 , 20.75907868, 23.99303906, 27.22699944, 30.46095982,\n",
       "        33.6949202 ]),\n",
       " <a list of 10 Patch objects>)"
      ]
     },
     "execution_count": 8,
     "metadata": {},
     "output_type": "execute_result"
    },
    {
     "data": {
      "image/png": "[encoded data removed]",
      "text/plain": [
       "<Figure size 432x288 with 1 Axes>"
      ]
     },
     "metadata": {
      "needs_background": "light"
     },
     "output_type": "display_data"
    }
   ],
   "source": [
    "y = np.random.chisquare(10,1000)\n",
    "y\n",
    "plt.hist(y, color='g')"
   ]
  },
  {
   "cell_type": "code",
   "execution_count": 9,
   "metadata": {},
   "outputs": [
    {
     "data": {
      "text/plain": [
       "(array([  4.,  23., 113., 216., 270., 190., 100.,  58.,  22.,   4.]),\n",
       " array([20.24899817, 26.62118866, 32.99337915, 39.36556964, 45.73776012,\n",
       "        52.10995061, 58.4821411 , 64.85433159, 71.22652207, 77.59871256,\n",
       "        83.97090305]),\n",
       " <a list of 10 Patch objects>)"
      ]
     },
     "execution_count": 9,
     "metadata": {},
     "output_type": "execute_result"
    },
    {
     "data": {
      "image/png": "[encoded data removed]",
      "text/plain": [
       "<Figure size 432x288 with 1 Axes>"
      ]
     },
     "metadata": {
      "needs_background": "light"
     },
     "output_type": "display_data"
    }
   ],
   "source": [
    "z = np.random.chisquare(50,1000)\n",
    "z\n",
    "plt.hist(z, color='r')"
   ]
  },
  {
   "cell_type": "markdown",
   "metadata": {},
   "source": [
    "### Poisson Distribution\n",
    "\n",
    "References:\n",
    "- https://docs.scipy.org/doc/numpy-1.15.1/reference/generated/numpy.random.poisson.html#numpy.random.poisson\n",
    "- https://stattrek.com/probability-distributions/poisson.aspx\n",
    "- http://www.stats.ox.ac.uk/~marchini/teaching/L5/L5.notes.pdf\n",
    "- https://www.ck12.org/section/The-Poisson-Probability-Distribution/\n",
    "\n",
    "This applies to situations when a count for the number of occurences of an event is observed within a set unit of time, these situations are known as Poisson experiments and result in a poisson distribution.  The poisson distribution is the discrete probability distribution of events occuring randomly in a given time interval.  An example of a poissson experiment is the number of births per hour during a given day.\n",
    "\n",
    "In a poisson distribution each event is independent of all others and the probability of an event occuring in a given time, distance, area or volume is the same.\n",
    "\n",
    "The python syntax required is numpy.random.poisson(lam=1.0, size=None)\n",
    "where lam is the observed time interval and sixe is the sample size."
   ]
  },
  {
   "cell_type": "code",
   "execution_count": 10,
   "metadata": {},
   "outputs": [
    {
     "data": {
      "text/plain": [
       "(array([ 43., 102., 321., 187., 133., 150.,  39.,  21.,   3.,   1.]),\n",
       " array([ 0. ,  1.4,  2.8,  4.2,  5.6,  7. ,  8.4,  9.8, 11.2, 12.6, 14. ]),\n",
       " <a list of 10 Patch objects>)"
      ]
     },
     "execution_count": 10,
     "metadata": {},
     "output_type": "execute_result"
    },
    {
     "data": {
      "image/png": "[encoded data removed]",
      "text/plain": [
       "<Figure size 432x288 with 1 Axes>"
      ]
     },
     "metadata": {
      "needs_background": "light"
     },
     "output_type": "display_data"
    }
   ],
   "source": [
    "x = np.random.poisson(5, 1000)\n",
    "x\n",
    "plt.hist(x)"
   ]
  },
  {
   "cell_type": "markdown",
   "metadata": {},
   "source": [
    "### Exponential Distribution\n",
    "\n",
    "References:\n",
    "- The Exponential Distribution Made EASY! https://www.youtube.com/watch?v=bKkLYSi5XNE\n",
    "- https://www.statisticshowto.datasciencecentral.com/exponential-distribution/\n",
    "\n",
    " The Exponential distribution describes the time taken between two events occuring in a poisson experiment.  If we consider the poisson experiment to be the number of births per hour during a given day the then exponential distribution can be used to model the time in between the births.\n",
    "\n",
    "\n"
   ]
  },
  {
   "cell_type": "code",
   "execution_count": 11,
   "metadata": {},
   "outputs": [
    {
     "data": {
      "text/plain": [
       "(array([6.414e+03, 2.257e+03, 8.410e+02, 3.040e+02, 1.150e+02, 4.500e+01,\n",
       "        1.400e+01, 4.000e+00, 5.000e+00, 1.000e+00]),\n",
       " array([9.62179434e-09, 1.02134493e-03, 2.04268024e-03, 3.06401555e-03,\n",
       "        4.08535085e-03, 5.10668616e-03, 6.12802147e-03, 7.14935678e-03,\n",
       "        8.17069208e-03, 9.19202739e-03, 1.02133627e-02]),\n",
       " <a list of 10 Patch objects>)"
      ]
     },
     "execution_count": 11,
     "metadata": {},
     "output_type": "execute_result"
    },
    {
     "data": {
      "image/png": "[encoded data removed]",
      "text/plain": [
       "<Figure size 432x288 with 1 Axes>"
      ]
     },
     "metadata": {
      "needs_background": "light"
     },
     "output_type": "display_data"
    }
   ],
   "source": [
    "y = np.random.exponential(0.001,10000)\n",
    "y\n",
    "plt.hist(y)"
   ]
  },
  {
   "cell_type": "markdown",
   "metadata": {},
   "source": [
    "## 4. Seeds\n",
    "\n",
    "- https://www.packtpub.com/mapt/book/big_data_and_business_intelligence/9781785285110/2/ch02lvl1sec16/numpy-random-numbers\n",
    "- https://www.oreilly.com/library/view/python-for-data/9781491957653/\n",
    "- https://docs.scipy.org/doc/numpy-1.15.1/reference/generated/numpy.random.RandomState.html#numpy.random.RandomState\n",
    "\n",
    "The random numbers in numpy are known as psuedorandom numbers because they are generated using an algorithim and deterministic behaviour based on the seed of the random state generator. The algorithim used is called the Mersenne Twister and this requires a seed or a base value from which to generate numbers. The seed is an integer value between 0 and 2**32 and does not need to be random so that specific seeds can be used to obtain a known sequence of numbers.\n",
    "\n",
    "numpy.random.seed() is the function with the RandomSate class that is used to reset the integer value for the seed."
   ]
  },
  {
   "cell_type": "code",
   "execution_count": 12,
   "metadata": {},
   "outputs": [
    {
     "data": {
      "text/plain": [
       "array([ 8, 24, 67, 87, 79, 48, 10, 94, 52, 98])"
      ]
     },
     "execution_count": 12,
     "metadata": {},
     "output_type": "execute_result"
    }
   ],
   "source": [
    "np.random.seed(100)\n",
    "x = np.random.randint(0,101,10)\n",
    "x"
   ]
  }
 ],
 "metadata": {
  "kernelspec": {
   "display_name": "Python 3",
   "language": "python",
   "name": "python3"
  },
  "language_info": {
   "codemirror_mode": {
    "name": "ipython",
    "version": 3
   },
   "file_extension": ".py",
   "mimetype": "text/x-python",
   "name": "python",
   "nbconvert_exporter": "python",
   "pygments_lexer": "ipython3",
   "version": "3.7.0"
  }
 },
 "nbformat": 4,
 "nbformat_minor": 2
}
