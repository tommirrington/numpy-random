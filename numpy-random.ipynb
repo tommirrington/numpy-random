{
 "cells": [
  {
   "cell_type": "markdown",
   "metadata": {},
   "source": [
    "# The Numpy.Random Package"
   ]
  },
  {
   "cell_type": "markdown",
   "metadata": {},
   "source": [
    "## 1. Overview\n",
    "\n",
    "References:\n",
    "- https://docs.scipy.org/doc/numpy-1.15.1/reference/routines.random.html\n",
    "- https://www.oreilly.com/library/view/python-for-data/9781491957653/\n",
    "    \n",
    "NumPy which is short for Numerical Python is a package within python used for carrying out numerical computations using vectorized data and multidimensional arrays.  It is a foundation package that is in other scientfic and data modelling packages such as Pandas.\n",
    " \n",
    "The numpy.random module sits within the NumPy package and is used for pseudorandom number generation for creating whole arrays of randomised values using a variety of probability distributions."
   ]
  },
  {
   "cell_type": "code",
   "execution_count": 1,
   "metadata": {},
   "outputs": [],
   "source": [
    "import numpy as np\n",
    "import matplotlib.pyplot as plt\n"
   ]
  },
  {
   "cell_type": "markdown",
   "metadata": {},
   "source": [
    "## 2. Simple Random Data and Permutations Function\n",
    "\n",
    "References:\n",
    "- https://docs.scipy.org/doc/numpy-1.15.1/reference/routines.random.html#"
   ]
  },
  {
   "cell_type": "markdown",
   "metadata": {},
   "source": [
    "### Simple Random Data\n"
   ]
  },
  {
   "cell_type": "code",
   "execution_count": 2,
   "metadata": {},
   "outputs": [
    {
     "data": {
      "text/plain": [
       "array([0.69022673, 0.84473787, 0.7754528 , ..., 0.45437544, 0.69352751,\n",
       "       0.34792582])"
      ]
     },
     "execution_count": 2,
     "metadata": {},
     "output_type": "execute_result"
    }
   ],
   "source": [
    "x = np.random.rand(10000)\n",
    "x"
   ]
  },
  {
   "cell_type": "code",
   "execution_count": 3,
   "metadata": {},
   "outputs": [
    {
     "data": {
      "text/plain": [
       "(array([ 990.,  996.,  996., 1040., 1016., 1040., 1018.,  974.,  979.,\n",
       "         951.]),\n",
       " array([1.20119073e-05, 1.00009512e-01, 2.00007012e-01, 3.00004511e-01,\n",
       "        4.00002011e-01, 4.99999511e-01, 5.99997011e-01, 6.99994511e-01,\n",
       "        7.99992011e-01, 8.99989511e-01, 9.99987010e-01]),\n",
       " <a list of 10 Patch objects>)"
      ]
     },
     "execution_count": 3,
     "metadata": {},
     "output_type": "execute_result"
    },
    {
     "data": {
      "image/png": "[encoded data removed]",
      "text/plain": [
       "<Figure size 432x288 with 1 Axes>"
      ]
     },
     "metadata": {
      "needs_background": "light"
     },
     "output_type": "display_data"
    }
   ],
   "source": [
    "\n",
    "plt.hist(x)"
   ]
  },
  {
   "cell_type": "code",
   "execution_count": 4,
   "metadata": {},
   "outputs": [
    {
     "data": {
      "text/plain": [
       "(array([ 991.,  973.,  963., 1009.,  997.,  973., 1047., 1012., 1028.,\n",
       "        1007.]),\n",
       " array([6.47867344e-05, 1.00055563e-01, 2.00046338e-01, 3.00037114e-01,\n",
       "        4.00027890e-01, 5.00018666e-01, 6.00009442e-01, 7.00000218e-01,\n",
       "        7.99990993e-01, 8.99981769e-01, 9.99972545e-01]),\n",
       " <a list of 10 Patch objects>)"
      ]
     },
     "execution_count": 4,
     "metadata": {},
     "output_type": "execute_result"
    },
    {
     "data": {
      "image/png": "[encoded data removed]",
      "text/plain": [
       "<Figure size 432x288 with 1 Axes>"
      ]
     },
     "metadata": {
      "needs_background": "light"
     },
     "output_type": "display_data"
    }
   ],
   "source": [
    "x = np.random.random_sample(10000)\n",
    "x\n",
    "plt.hist(x)"
   ]
  },
  {
   "cell_type": "markdown",
   "metadata": {},
   "source": [
    "## 3. Distributions"
   ]
  },
  {
   "cell_type": "markdown",
   "metadata": {},
   "source": [
    "### Normal Distribution\n",
    "\n",
    "References:\n",
    "- https://www.mathsisfun.com/data/standard-normal-distribution.html\n",
    "- https://docs.scipy.org/doc/numpy-1.15.1/reference/generated/numpy.random.normal.html#numpy.random.normal\n",
    "\n",
    "A normal distribution is where data is distributed evenly around a central value with no bias left or right.  The distribution has the following characteristics:\n",
    "- The mean, mode and median are approximately equal \n",
    "- There is symmetry around the centre and ~50% of values are greater than the mean and ~50% of values are less than th mean\n",
    "- The standard deviation is a measure of how the values are distributed around the mean value and 95% of values are within 1 std dev of the mean, 95% within 2 std devs and 99.7% within 3 std devs\n",
    "- The normal distribution is often refered to as a \"bell curve: due to the resultant shape of the plot\n",
    "\n",
    "The histogram below shows a normal distribution of 1000 values with a mean of 0 and a standard deviation of 0.1\n",
    "\n",
    "The numpy function numpy.random.normal(loc,scale,size) where loc is the mean, scale is the std dev and size is the sample size.\n"
   ]
  },
  {
   "cell_type": "code",
   "execution_count": 5,
   "metadata": {},
   "outputs": [
    {
     "data": {
      "text/plain": [
       "(array([  3.,  15.,  52., 151., 198., 238., 193., 111.,  32.,   7.]),\n",
       " array([-0.34717249, -0.28139623, -0.21561996, -0.1498437 , -0.08406744,\n",
       "        -0.01829118,  0.04748508,  0.11326134,  0.1790376 ,  0.24481386,\n",
       "         0.31059013]),\n",
       " <a list of 10 Patch objects>)"
      ]
     },
     "execution_count": 5,
     "metadata": {},
     "output_type": "execute_result"
    },
    {
     "data": {
      "image/png": "[encoded data removed]",
      "text/plain": [
       "<Figure size 432x288 with 1 Axes>"
      ]
     },
     "metadata": {
      "needs_background": "light"
     },
     "output_type": "display_data"
    }
   ],
   "source": [
    "mu, sigma = 0, 0.1 # mean and standard deviation\n",
    "x = np.random.normal(mu, sigma, 1000)\n",
    "plt.hist(x)"
   ]
  },
  {
   "cell_type": "markdown",
   "metadata": {},
   "source": [
    "### Uniform distribution\n",
    "\n",
    "References:\n",
    "- https://www.statisticshowto.datasciencecentral.com/uniform-distribution/\n",
    "- https://docs.scipy.org/doc/numpy-1.15.1/reference/generated/numpy.random.uniform.html#numpy.random.uniform\n",
    "\n",
    "A uniform distribution or rectangular distribution has a constant probability for every value in a sample.  It is written a U(a,b) where a is the maximum and b is the minimum value.  To call the function in the random module use numpy.random.uniform(low,high,size).  This is the distribution used in the numpy.random.rand fuctions.\n",
    "\n",
    "The example below shows a uniform distribution for a sample size of 1000 values between -1 and 0.\n"
   ]
  },
  {
   "cell_type": "code",
   "execution_count": 6,
   "metadata": {
    "scrolled": true
   },
   "outputs": [
    {
     "data": {
      "text/plain": [
       "(array([ 97.,  96., 114., 103., 103., 107.,  99., 101.,  86.,  94.]),\n",
       " array([-0.99950477, -0.89969528, -0.7998858 , -0.70007632, -0.60026684,\n",
       "        -0.50045735, -0.40064787, -0.30083839, -0.20102891, -0.10121942,\n",
       "        -0.00140994]),\n",
       " <a list of 10 Patch objects>)"
      ]
     },
     "execution_count": 6,
     "metadata": {},
     "output_type": "execute_result"
    },
    {
     "data": {
      "image/png": "[encoded data removed]",
      "text/plain": [
       "<Figure size 432x288 with 1 Axes>"
      ]
     },
     "metadata": {
      "needs_background": "light"
     },
     "output_type": "display_data"
    }
   ],
   "source": [
    "x = np.random.uniform(-1,0,1000)\n",
    "x\n",
    "plt.hist(x)"
   ]
  },
  {
   "cell_type": "markdown",
   "metadata": {},
   "source": [
    "### Exponential Distribution\n",
    "\n",
    "References:\n",
    "- The Exponential Distribution Made EASY! https://www.youtube.com/watch?v=bKkLYSi5XNE\n",
    "- \n",
    "\n",
    "Uses the Poisson distribution\n",
    "\n",
    "Exponential the time take n between two events occuring\n",
    "\n",
    "Lambda - average number of events in one unit of time\n",
    "\n",
    "\n"
   ]
  },
  {
   "cell_type": "code",
   "execution_count": 7,
   "metadata": {},
   "outputs": [
    {
     "data": {
      "text/plain": [
       "([array([0., 1., 0., 0., 0., 0., 1., 0., 1., 0.]),\n",
       "  array([1., 0., 0., 1., 0., 1., 0., 0., 0., 0.]),\n",
       "  array([1., 1., 0., 1., 0., 0., 0., 0., 0., 0.]),\n",
       "  array([1., 0., 1., 0., 1., 0., 0., 0., 0., 0.]),\n",
       "  array([1., 0., 0., 1., 0., 1., 0., 0., 0., 0.]),\n",
       "  array([1., 1., 1., 0., 0., 0., 0., 0., 0., 0.]),\n",
       "  array([1., 1., 1., 0., 0., 0., 0., 0., 0., 0.]),\n",
       "  array([2., 1., 0., 0., 0., 0., 0., 0., 0., 0.]),\n",
       "  array([3., 0., 0., 0., 0., 0., 0., 0., 0., 0.]),\n",
       "  array([0., 1., 0., 1., 0., 0., 0., 0., 0., 1.])],\n",
       " array([0.2008689 , 0.55021693, 0.89956495, 1.24891298, 1.59826101,\n",
       "        1.94760904, 2.29695707, 2.6463051 , 2.99565313, 3.34500116,\n",
       "        3.69434919]),\n",
       " <a list of 10 Lists of Patches objects>)"
      ]
     },
     "execution_count": 7,
     "metadata": {},
     "output_type": "execute_result"
    },
    {
     "data": {
      "image/png": "[encoded data removed]",
      "text/plain": [
       "<Figure size 432x288 with 1 Axes>"
      ]
     },
     "metadata": {
      "needs_background": "light"
     },
     "output_type": "display_data"
    }
   ],
   "source": [
    "y = np.random.standard_exponential((3, 10))\n",
    "y\n",
    "plt.hist(y)"
   ]
  },
  {
   "cell_type": "code",
   "execution_count": 8,
   "metadata": {},
   "outputs": [
    {
     "data": {
      "text/plain": [
       "(array([57., 15.,  9.,  7.,  4.,  4.,  1.,  0.,  0.,  3.]),\n",
       " array([ 1. ,  2.1,  3.2,  4.3,  5.4,  6.5,  7.6,  8.7,  9.8, 10.9, 12. ]),\n",
       " <a list of 10 Patch objects>)"
      ]
     },
     "execution_count": 8,
     "metadata": {},
     "output_type": "execute_result"
    },
    {
     "data": {
      "image/png": "[encoded data removed]",
      "text/plain": [
       "<Figure size 432x288 with 1 Axes>"
      ]
     },
     "metadata": {
      "needs_background": "light"
     },
     "output_type": "display_data"
    }
   ],
   "source": [
    "x = np.random.geometric(p=0.35, size=100)\n",
    "x\n",
    "plt.hist(x)"
   ]
  },
  {
   "cell_type": "markdown",
   "metadata": {},
   "source": [
    "### Chi Square Distribution\n",
    "\n",
    "References:\n",
    "- http://onlinestatbook.com/2/chi_square/distribution.html\n",
    "- https://docs.scipy.org/doc/numpy-1.15.1/reference/generated/numpy.random.chisquare.html#numpy.random.chisquare\n",
    "\n",
    "A sample from a random normal distribution is known as the standard normal deviates and the sum of these is known as the Chi square distribution.\n",
    "\n",
    "The degrees of freedom is the number of independent variables in a sample so in the case of a chi square distribution this will be the number of standard normal deviates.  The mean of a chi square distribution is the degrees of freedom in the sample.\n",
    "\n",
    "Chi square distributions are used to test how observed data differs from thoretical expectations.\n",
    "\n",
    "The numpy.randon.chisquare(df,size) uses the parameters 'df' for the degrees of freedon and size for the sample size.\n",
    "\n",
    "The histograms below show the chi square distributions for 2,10 and 50 degrees of freedom and it can be seen that as the df increses the distribution becomes more representative of the bell shaped curve of the normal distribution."
   ]
  },
  {
   "cell_type": "code",
   "execution_count": 9,
   "metadata": {},
   "outputs": [
    {
     "data": {
      "text/plain": [
       "(array([507., 258., 112.,  61.,  22.,  22.,   7.,   5.,   3.,   3.]),\n",
       " array([2.06020372e-03, 1.38460930e+00, 2.76715839e+00, 4.14970749e+00,\n",
       "        5.53225658e+00, 6.91480568e+00, 8.29735477e+00, 9.67990387e+00,\n",
       "        1.10624530e+01, 1.24450021e+01, 1.38275512e+01]),\n",
       " <a list of 10 Patch objects>)"
      ]
     },
     "execution_count": 9,
     "metadata": {},
     "output_type": "execute_result"
    },
    {
     "data": {
      "image/png": "[encoded data removed]",
      "text/plain": [
       "<Figure size 432x288 with 1 Axes>"
      ]
     },
     "metadata": {
      "needs_background": "light"
     },
     "output_type": "display_data"
    }
   ],
   "source": [
    "x = np.random.chisquare(2,1000)\n",
    "x\n",
    "plt.hist(x)"
   ]
  },
  {
   "cell_type": "code",
   "execution_count": 10,
   "metadata": {},
   "outputs": [
    {
     "data": {
      "text/plain": [
       "(array([ 59., 209., 255., 227., 141.,  55.,  29.,  17.,   6.,   2.]),\n",
       " array([ 1.34378804,  4.11876478,  6.89374152,  9.66871826, 12.443695  ,\n",
       "        15.21867175, 17.99364849, 20.76862523, 23.54360197, 26.31857871,\n",
       "        29.09355545]),\n",
       " <a list of 10 Patch objects>)"
      ]
     },
     "execution_count": 10,
     "metadata": {},
     "output_type": "execute_result"
    },
    {
     "data": {
      "image/png": "[encoded data removed]",
      "text/plain": [
       "<Figure size 432x288 with 1 Axes>"
      ]
     },
     "metadata": {
      "needs_background": "light"
     },
     "output_type": "display_data"
    }
   ],
   "source": [
    "y = np.random.chisquare(10,1000)\n",
    "y\n",
    "plt.hist(y)"
   ]
  },
  {
   "cell_type": "code",
   "execution_count": 11,
   "metadata": {},
   "outputs": [
    {
     "data": {
      "text/plain": [
       "(array([ 19., 141., 334., 305., 142.,  51.,   6.,   1.,   0.,   1.]),\n",
       " array([ 22.53924685,  31.47321153,  40.40717621,  49.34114089,\n",
       "         58.27510557,  67.20907025,  76.14303493,  85.07699961,\n",
       "         94.01096429, 102.94492897, 111.87889365]),\n",
       " <a list of 10 Patch objects>)"
      ]
     },
     "execution_count": 11,
     "metadata": {},
     "output_type": "execute_result"
    },
    {
     "data": {
      "image/png": "[encoded data removed]",
      "text/plain": [
       "<Figure size 432x288 with 1 Axes>"
      ]
     },
     "metadata": {
      "needs_background": "light"
     },
     "output_type": "display_data"
    }
   ],
   "source": [
    "z = np.random.chisquare(50,1000)\n",
    "z\n",
    "plt.hist(z)"
   ]
  },
  {
   "cell_type": "markdown",
   "metadata": {},
   "source": [
    "## 4. Seeds\n",
    "\n",
    "- https://www.packtpub.com/mapt/book/big_data_and_business_intelligence/9781785285110/2/ch02lvl1sec16/numpy-random-numbers\n",
    "- https://www.oreilly.com/library/view/python-for-data/9781491957653/\n",
    "- https://docs.scipy.org/doc/numpy-1.15.1/reference/generated/numpy.random.RandomState.html#numpy.random.RandomState\n",
    "\n",
    "The random numbers in numpy are known as psuedorandom numbers because they are generated using an algorithim and deterministic behaviour based on the seed of the random state generator. The algorithim used is called the Mersenne Twister and this requires a seed or a base value from which to generate numbers. The seed is an integer value between 0 and 2**32 and does not need to be random so that specific seeds can be used to obtain a known sequence of numbers.\n",
    "\n",
    "numpy.random.seed() is the function with the RandomSate class that is used to reset the integer value for the seed."
   ]
  },
  {
   "cell_type": "code",
   "execution_count": 12,
   "metadata": {},
   "outputs": [
    {
     "data": {
      "text/plain": [
       "array([ 8, 24, 67, 87, 79, 48, 10, 94, 52, 98])"
      ]
     },
     "execution_count": 12,
     "metadata": {},
     "output_type": "execute_result"
    }
   ],
   "source": [
    "np.random.seed(100)\n",
    "x = np.random.randint(0,101,10)\n",
    "x"
   ]
  },
  {
   "cell_type": "code",
   "execution_count": null,
   "metadata": {},
   "outputs": [],
   "source": []
  }
 ],
 "metadata": {
  "kernelspec": {
   "display_name": "Python 3",
   "language": "python",
   "name": "python3"
  },
  "language_info": {
   "codemirror_mode": {
    "name": "ipython",
    "version": 3
   },
   "file_extension": ".py",
   "mimetype": "text/x-python",
   "name": "python",
   "nbconvert_exporter": "python",
   "pygments_lexer": "ipython3",
   "version": "3.7.0"
  }
 },
 "nbformat": 4,
 "nbformat_minor": 2
}
