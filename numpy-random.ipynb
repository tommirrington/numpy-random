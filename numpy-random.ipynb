{
 "cells": [
  {
   "cell_type": "markdown",
   "metadata": {},
   "source": [
    "# The Numpy.Random Package"
   ]
  },
  {
   "cell_type": "code",
   "execution_count": 1,
   "metadata": {},
   "outputs": [],
   "source": [
    "import numpy as np\n",
    "import matplotlib.pyplot as plt\n"
   ]
  },
  {
   "cell_type": "markdown",
   "metadata": {},
   "source": [
    "## Simple Random Data and Permutations Function"
   ]
  },
  {
   "cell_type": "code",
   "execution_count": 2,
   "metadata": {},
   "outputs": [
    {
     "data": {
      "text/plain": [
       "array([0.85152721, 0.36398622, 0.19380101, ..., 0.67097441, 0.39216969,\n",
       "       0.48584398])"
      ]
     },
     "execution_count": 2,
     "metadata": {},
     "output_type": "execute_result"
    }
   ],
   "source": [
    "x = np.random.rand(10000)\n",
    "x"
   ]
  },
  {
   "cell_type": "code",
   "execution_count": 3,
   "metadata": {},
   "outputs": [
    {
     "data": {
      "text/plain": [
       "(array([1007., 1003., 1004.,  977., 1027.,  986.,  924., 1042., 1016.,\n",
       "        1014.]),\n",
       " array([1.28646774e-05, 1.00005295e-01, 1.99997724e-01, 2.99990154e-01,\n",
       "        3.99982584e-01, 4.99975014e-01, 5.99967444e-01, 6.99959874e-01,\n",
       "        7.99952304e-01, 8.99944734e-01, 9.99937164e-01]),\n",
       " <a list of 10 Patch objects>)"
      ]
     },
     "execution_count": 3,
     "metadata": {},
     "output_type": "execute_result"
    },
    {
     "data": {
      "image/png": "[encoded data removed]",
      "text/plain": [
       "<Figure size 432x288 with 1 Axes>"
      ]
     },
     "metadata": {
      "needs_background": "light"
     },
     "output_type": "display_data"
    }
   ],
   "source": [
    "\n",
    "plt.hist(x)"
   ]
  },
  {
   "cell_type": "code",
   "execution_count": 4,
   "metadata": {},
   "outputs": [
    {
     "data": {
      "text/plain": [
       "(array([1014., 1006., 1023., 1021., 1008.,  983.,  958.,  987.,  973.,\n",
       "        1027.]),\n",
       " array([2.38371815e-04, 1.00214268e-01, 2.00190165e-01, 3.00166062e-01,\n",
       "        4.00141958e-01, 5.00117855e-01, 6.00093751e-01, 7.00069648e-01,\n",
       "        8.00045544e-01, 9.00021441e-01, 9.99997338e-01]),\n",
       " <a list of 10 Patch objects>)"
      ]
     },
     "execution_count": 4,
     "metadata": {},
     "output_type": "execute_result"
    },
    {
     "data": {
      "image/png": "[encoded data removed]",
      "text/plain": [
       "<Figure size 432x288 with 1 Axes>"
      ]
     },
     "metadata": {
      "needs_background": "light"
     },
     "output_type": "display_data"
    }
   ],
   "source": [
    "x = np.random.random_sample(10000)\n",
    "x\n",
    "plt.hist(x)"
   ]
  },
  {
   "cell_type": "markdown",
   "metadata": {},
   "source": [
    "### Distributions\n",
    "\n",
    "Normal Distribution\n",
    "\n",
    "References:\n",
    "- https://www.mathsisfun.com/data/standard-normal-distribution.html\n",
    "\n",
    "A normal distribution is where data is distributed evenly around a central value with no bias left or right.  The distribution has the following characteristics:\n",
    "- The mean, mode and median are approximately equal \n",
    "- There is symmetry around the centre and ~50% of values are greater than the mean and ~50% of values are less than th mean\n",
    "- The standard deviation is a measure of how the values are distributed around the mean value and 95% of values are within 1 std dev of the mean, 95% within 2 std devs and 99.7% within 3 std devs\n",
    "- The normal distribution is often refered to as a \"bell curve: due to the resultant shape of the plot\n",
    "\n",
    "The histogram below shows a normal distribution of 1000 values with a mean of 0 and a standard deviation of 0.1\n",
    "\n",
    "The numpy function numpy.random.normal(loc,scale,size)\n"
   ]
  },
  {
   "cell_type": "code",
   "execution_count": 5,
   "metadata": {},
   "outputs": [
    {
     "data": {
      "text/plain": [
       "(array([  1.,  12.,  42., 118., 270., 267., 201.,  72.,  13.,   4.]),\n",
       " array([-0.35554944, -0.28708789, -0.21862634, -0.15016479, -0.08170324,\n",
       "        -0.01324169,  0.05521987,  0.12368142,  0.19214297,  0.26060452,\n",
       "         0.32906607]),\n",
       " <a list of 10 Patch objects>)"
      ]
     },
     "execution_count": 5,
     "metadata": {},
     "output_type": "execute_result"
    },
    {
     "data": {
      "image/png": "[encoded data removed]",
      "text/plain": [
       "<Figure size 432x288 with 1 Axes>"
      ]
     },
     "metadata": {
      "needs_background": "light"
     },
     "output_type": "display_data"
    }
   ],
   "source": [
    "mu, sigma = 0, 0.1 # mean and standard deviation\n",
    "x = np.random.normal(mu, sigma, 1000)\n",
    "plt.hist(x)"
   ]
  },
  {
   "cell_type": "markdown",
   "metadata": {},
   "source": [
    "### Uniform distribution"
   ]
  },
  {
   "cell_type": "code",
   "execution_count": 6,
   "metadata": {},
   "outputs": [
    {
     "data": {
      "text/plain": [
       "(array([101.,  97., 105., 101.,  98.,  99., 104.,  99.,  89., 107.]),\n",
       " array([-9.99164543e-01, -8.99321732e-01, -7.99478920e-01, -6.99636108e-01,\n",
       "        -5.99793296e-01, -4.99950485e-01, -4.00107673e-01, -3.00264861e-01,\n",
       "        -2.00422049e-01, -1.00579238e-01, -7.36425780e-04]),\n",
       " <a list of 10 Patch objects>)"
      ]
     },
     "execution_count": 6,
     "metadata": {},
     "output_type": "execute_result"
    },
    {
     "data": {
      "image/png": "[encoded data removed]",
      "text/plain": [
       "<Figure size 432x288 with 1 Axes>"
      ]
     },
     "metadata": {
      "needs_background": "light"
     },
     "output_type": "display_data"
    }
   ],
   "source": [
    "x = np.random.uniform(-1,0,1000)\n",
    "x\n",
    "plt.hist(x)"
   ]
  },
  {
   "cell_type": "code",
   "execution_count": null,
   "metadata": {},
   "outputs": [],
   "source": [
    "x = np.random.standard_exponential((3, 8000))\n",
    "x\n",
    "plt.hist(x)"
   ]
  },
  {
   "cell_type": "code",
   "execution_count": null,
   "metadata": {},
   "outputs": [],
   "source": [
    "x = np.random.geometric(p=0.35, size=10000)\n",
    "x\n",
    "plt.hist(x)"
   ]
  },
  {
   "cell_type": "code",
   "execution_count": null,
   "metadata": {},
   "outputs": [],
   "source": [
    "x = np.random.chisquare(10,1000)\n",
    "x\n",
    "plt.hist(x)"
   ]
  },
  {
   "cell_type": "code",
   "execution_count": null,
   "metadata": {},
   "outputs": [],
   "source": []
  }
 ],
 "metadata": {
  "kernelspec": {
   "display_name": "Python 3",
   "language": "python",
   "name": "python3"
  },
  "language_info": {
   "codemirror_mode": {
    "name": "ipython",
    "version": 3
   },
   "file_extension": ".py",
   "mimetype": "text/x-python",
   "name": "python",
   "nbconvert_exporter": "python",
   "pygments_lexer": "ipython3",
   "version": "3.7.0"
  }
 },
 "nbformat": 4,
 "nbformat_minor": 2
}
