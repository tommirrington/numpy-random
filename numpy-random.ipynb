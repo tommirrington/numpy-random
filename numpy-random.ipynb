{
 "cells": [
  {
   "cell_type": "markdown",
   "metadata": {},
   "source": [
    "# The Numpy.Random Package"
   ]
  },
  {
   "cell_type": "markdown",
   "metadata": {},
   "source": [
    "## 1. Overview\n",
    "\n",
    "References:\n",
    "- https://docs.scipy.org/doc/numpy-1.15.1/reference/routines.random.html\n",
    "- https://www.oreilly.com/library/view/python-for-data/9781491957653/\n",
    "    \n",
    "NumPy which is short for Numerical Python is a package within python used for carrying out numerical computations using vectorized data and multidimensional arrays.  It is a foundation package that is in other scientfic and data modelling packages such as Pandas.\n",
    " \n",
    "The numpy.random module sits within the NumPy package and is used for pseudorandom number generation for creating whole arrays of randomised values using a variety of probability distributions."
   ]
  },
  {
   "cell_type": "code",
   "execution_count": 1,
   "metadata": {},
   "outputs": [],
   "source": [
    "import numpy as np\n",
    "import matplotlib.pyplot as plt\n"
   ]
  },
  {
   "cell_type": "markdown",
   "metadata": {},
   "source": [
    "## 2. Simple Random Data and Permutations Function\n"
   ]
  },
  {
   "cell_type": "markdown",
   "metadata": {},
   "source": [
    "### Simple Random Data\n",
    "\n",
    "References:\n",
    "- https://docs.scipy.org/doc/numpy-1.15.1/reference/routines.random.html#\n",
    "\n",
    "The simple random data functions in numpy.random are a collection of functions for generating psuedorandom numbers in multidimensional arrays.\n",
    "\n",
    "The np.random.rand function provides psuedorandom float numbers between 0 and 1.  The parameters specify the shape of the array. There are two examples below, the first specifies a single array of five values, the second specifies five arrays of five arrays each containing a further five arrays.\n"
   ]
  },
  {
   "cell_type": "code",
   "execution_count": 2,
   "metadata": {},
   "outputs": [
    {
     "data": {
      "text/plain": [
       "array([0.67236391, 0.55062625, 0.35471929, 0.775646  , 0.1737656 ])"
      ]
     },
     "execution_count": 2,
     "metadata": {},
     "output_type": "execute_result"
    }
   ],
   "source": [
    "x = np.random.rand(5)\n",
    "x"
   ]
  },
  {
   "cell_type": "code",
   "execution_count": 3,
   "metadata": {},
   "outputs": [
    {
     "data": {
      "text/plain": [
       "array([[[0.70911042, 0.17988011, 0.3242464 , 0.86373627, 0.78471591],\n",
       "        [0.26010443, 0.2172188 , 0.27011904, 0.45901183, 0.37065382],\n",
       "        [0.64024455, 0.22795293, 0.16471871, 0.02742681, 0.06906706],\n",
       "        [0.62587931, 0.74465626, 0.27867748, 0.23507594, 0.02252009],\n",
       "        [0.41933307, 0.15624856, 0.55187487, 0.32670238, 0.82465546]],\n",
       "\n",
       "       [[0.84062921, 0.0067526 , 0.79044744, 0.78104498, 0.19543895],\n",
       "        [0.7910974 , 0.47825061, 0.83314855, 0.64601374, 0.71519801],\n",
       "        [0.51218406, 0.8732454 , 0.53598712, 0.32655864, 0.68502527],\n",
       "        [0.58967425, 0.02662759, 0.2615505 , 0.64657461, 0.77944995],\n",
       "        [0.41385237, 0.49517642, 0.76441819, 0.84587599, 0.16321262]],\n",
       "\n",
       "       [[0.10156793, 0.95821123, 0.50051072, 0.29381496, 0.53438223],\n",
       "        [0.83348219, 0.17137301, 0.91360938, 0.93929445, 0.36325687],\n",
       "        [0.72462882, 0.8819407 , 0.23502366, 0.37863688, 0.28822803],\n",
       "        [0.58043383, 0.42925338, 0.50901528, 0.44529054, 0.26984644],\n",
       "        [0.664514  , 0.51907169, 0.6141851 , 0.8425863 , 0.32632693]],\n",
       "\n",
       "       [[0.35555997, 0.36115882, 0.56728541, 0.18826308, 0.45963976],\n",
       "        [0.8259815 , 0.85091122, 0.21076975, 0.42974624, 0.53126644],\n",
       "        [0.49684469, 0.66030837, 0.28330047, 0.36190301, 0.8626885 ],\n",
       "        [0.95422346, 0.51420338, 0.8856491 , 0.13664312, 0.09124418],\n",
       "        [0.70307559, 0.83435564, 0.49474589, 0.03994146, 0.22358068]],\n",
       "\n",
       "       [[0.76186032, 0.88514998, 0.6660148 , 0.20314018, 0.05593478],\n",
       "        [0.64180192, 0.80816333, 0.3152757 , 0.2764228 , 0.23871662],\n",
       "        [0.83184112, 0.59684003, 0.07778005, 0.50813285, 0.60130085],\n",
       "        [0.11940176, 0.20457315, 0.6837124 , 0.17073093, 0.71438382],\n",
       "        [0.25721581, 0.58308442, 0.84209102, 0.26560383, 0.58970579]]])"
      ]
     },
     "execution_count": 3,
     "metadata": {},
     "output_type": "execute_result"
    }
   ],
   "source": [
    "x = np.random.rand(5,5,5)\n",
    "x"
   ]
  },
  {
   "cell_type": "markdown",
   "metadata": {},
   "source": [
    "Plotting a histogram of 10000 randomly genearted values using the random.rand function shows a unfirom ditribution of values with an approximately even probability that any one value will occur."
   ]
  },
  {
   "cell_type": "code",
   "execution_count": 4,
   "metadata": {},
   "outputs": [
    {
     "data": {
      "text/plain": [
       "(array([1050.,  970., 1010.,  990., 1006., 1004.,  989.,  977., 1013.,\n",
       "         991.]),\n",
       " array([7.64316688e-05, 1.00064049e-01, 2.00051666e-01, 3.00039283e-01,\n",
       "        4.00026900e-01, 5.00014517e-01, 6.00002135e-01, 6.99989752e-01,\n",
       "        7.99977369e-01, 8.99964986e-01, 9.99952603e-01]),\n",
       " <a list of 10 Patch objects>)"
      ]
     },
     "execution_count": 4,
     "metadata": {},
     "output_type": "execute_result"
    },
    {
     "data": {
      "image/png": "[encoded data removed]",
      "text/plain": [
       "<Figure size 432x288 with 1 Axes>"
      ]
     },
     "metadata": {
      "needs_background": "light"
     },
     "output_type": "display_data"
    }
   ],
   "source": [
    "x = np.random.rand(10000)\n",
    "x\n",
    "plt.hist(x)"
   ]
  },
  {
   "cell_type": "markdown",
   "metadata": {},
   "source": [
    "There are other methods of generating these randomised arrays, for example randn will generate an array conforming to a normal distribution and [randint](https://docs.scipy.org/doc/numpy-1.15.1/reference/generated/numpy.random.randint.html#numpy.random.randint) will generate an array of integer values between a low (inclusive) and high (exclusive) range.  The code block below generates an array of 10 integers between 1 and 100."
   ]
  },
  {
   "cell_type": "code",
   "execution_count": 5,
   "metadata": {},
   "outputs": [
    {
     "data": {
      "text/plain": [
       "array([37,  1, 99, 73, 68,  7, 65, 68, 71, 38])"
      ]
     },
     "execution_count": 5,
     "metadata": {},
     "output_type": "execute_result"
    }
   ],
   "source": [
    "x = np.random.randint(1,100,10)\n",
    "x"
   ]
  },
  {
   "cell_type": "markdown",
   "metadata": {},
   "source": [
    "The numpy.random descriptions often refers to half open intervals using the notation  [0.0, 1.0) this refers to a range of values between 0.0 inclusive and 1.0 exclusive represented by the square and curly brackets.\n",
    "\n",
    "Several functions listed in the library are aliases for one another for example [random_sample](https://docs.scipy.org/doc/numpy-1.15.1/reference/generated/numpy.random.random_sample.html#numpy.random.random_sample) and [sample](https://docs.scipy.org/doc/numpy-1.15.1/reference/generated/numpy.random.sample.html#numpy.random.sample) use identical parameters and models for generating data.\n",
    "\n",
    "random_sample returns an array of specified floats in the half-open interval [0.0, 1.0). and as the plot shows conforms to a uniform distribution."
   ]
  },
  {
   "cell_type": "code",
   "execution_count": 6,
   "metadata": {},
   "outputs": [
    {
     "name": "stdout",
     "output_type": "stream",
     "text": [
      "[0.75116859 0.00648249 0.1880281  ... 0.14024256 0.57475241 0.96192283]\n"
     ]
    },
    {
     "data": {
      "text/plain": [
       "(array([ 976.,  984.,  980., 1027.,  989., 1014., 1012., 1008.,  993.,\n",
       "        1017.]),\n",
       " array([2.09300175e-04, 1.00185487e-01, 2.00161674e-01, 3.00137861e-01,\n",
       "        4.00114048e-01, 5.00090235e-01, 6.00066422e-01, 7.00042609e-01,\n",
       "        8.00018796e-01, 8.99994983e-01, 9.99971170e-01]),\n",
       " <a list of 10 Patch objects>)"
      ]
     },
     "execution_count": 6,
     "metadata": {},
     "output_type": "execute_result"
    },
    {
     "data": {
      "image/png": "[encoded data removed]",
      "text/plain": [
       "<Figure size 432x288 with 1 Axes>"
      ]
     },
     "metadata": {
      "needs_background": "light"
     },
     "output_type": "display_data"
    }
   ],
   "source": [
    "x = np.random.random_sample(10000)\n",
    "print(x)\n",
    "plt.hist(x)"
   ]
  },
  {
   "cell_type": "markdown",
   "metadata": {},
   "source": [
    "Another useful simple function is [choice](https://docs.scipy.org/doc/numpy-1.15.1/reference/generated/numpy.random.choice.html#numpy.random.choice). This generates an output shape of randomised values taken from a user specified one dimensional array. The parameter a is used to specify the 1d array, if an ineteger is used then this behaves according to [numpy.arange](https://docs.scipy.org/doc/numpy-1.15.0/reference/generated/numpy.arange.html).   The code block below will generate one random integer in the range 0-9: "
   ]
  },
  {
   "cell_type": "code",
   "execution_count": 7,
   "metadata": {},
   "outputs": [
    {
     "name": "stdout",
     "output_type": "stream",
     "text": [
      "[0 1 2 3 4 5 6 7 8 9]\n"
     ]
    },
    {
     "data": {
      "text/plain": [
       "array([7])"
      ]
     },
     "execution_count": 7,
     "metadata": {},
     "output_type": "execute_result"
    }
   ],
   "source": [
    "x = np.arange(10)\n",
    "print(x)\n",
    "np.random.choice(10,1)\n"
   ]
  },
  {
   "cell_type": "markdown",
   "metadata": {},
   "source": [
    "numpy.choice can also be usd with the parameter p which is a 1d array used to assign probabilities to the array a.  This can be used to weight samples.  The code block below uses an user defined array a, an output size of 5, and a probability array p and it can be seen that the output is close to ~70% 'milk' based on the probability array."
   ]
  },
  {
   "cell_type": "code",
   "execution_count": 8,
   "metadata": {},
   "outputs": [
    {
     "name": "stdout",
     "output_type": "stream",
     "text": [
      "['milk' 'milk' 'milk' 'milk' 'eggs' 'milk' 'yoghurt' 'yoghurt' 'milk'\n",
      " 'milk' 'milk' 'yoghurt' 'milk' 'milk' 'milk' 'milk' 'cheese' 'milk'\n",
      " 'yoghurt' 'yoghurt']\n"
     ]
    }
   ],
   "source": [
    "dairy = ['eggs', 'cheese', 'milk', 'yoghurt']\n",
    "x = np.random.choice(dairy,20,p=[0.1,0.1,0.7,0.1])\n",
    "print(x)"
   ]
  },
  {
   "cell_type": "markdown",
   "metadata": {},
   "source": [
    "The numpy.random module contains two functions that provide permuatations or methods of ordering a data array.  The code block below produces an 1d array of values 0-4 and randomly re orders the array."
   ]
  },
  {
   "cell_type": "code",
   "execution_count": 9,
   "metadata": {},
   "outputs": [
    {
     "data": {
      "text/plain": [
       "array([2, 1, 0, 4, 3])"
      ]
     },
     "execution_count": 9,
     "metadata": {},
     "output_type": "execute_result"
    }
   ],
   "source": [
    "x = np.arange(5)\n",
    "np.random.shuffle(x)\n",
    "x"
   ]
  },
  {
   "cell_type": "markdown",
   "metadata": {},
   "source": [
    "If a multidimensional array is used in random.shuffle  then only the first axis will be shuffled:"
   ]
  },
  {
   "cell_type": "code",
   "execution_count": 10,
   "metadata": {},
   "outputs": [
    {
     "name": "stdout",
     "output_type": "stream",
     "text": [
      "Input\n",
      "[[0.21573581 0.46843832 0.16028732]\n",
      " [0.52079441 0.95764957 0.98600996]\n",
      " [0.02295227 0.59944919 0.69930266]]\n",
      "Output\n",
      "[[0.02295227 0.59944919 0.69930266]\n",
      " [0.52079441 0.95764957 0.98600996]\n",
      " [0.21573581 0.46843832 0.16028732]]\n"
     ]
    }
   ],
   "source": [
    "x = np.random.rand(3,3)\n",
    "print('Input')\n",
    "print(x)\n",
    "print('Output')\n",
    "np.random.shuffle(x)\n",
    "print(x)"
   ]
  },
  {
   "cell_type": "markdown",
   "metadata": {},
   "source": [
    "The random.permutation function perfoms a similar function to shuffle, the main differnece being that shuffle will reorder a specified array whereas permutuaion will return a permuted version of that array and will not overwrite the original array.  The code block below shows that after permuting an array x does not change."
   ]
  },
  {
   "cell_type": "code",
   "execution_count": 11,
   "metadata": {},
   "outputs": [
    {
     "name": "stdout",
     "output_type": "stream",
     "text": [
      "Input\n",
      "[[0.35869957 0.38418291 0.49297503]\n",
      " [0.860766   0.26038532 0.8808117 ]\n",
      " [0.3127943  0.74203161 0.3825637 ]]\n",
      "Output x\n",
      "[[0.35869957 0.38418291 0.49297503]\n",
      " [0.860766   0.26038532 0.8808117 ]\n",
      " [0.3127943  0.74203161 0.3825637 ]]\n",
      "Output y\n",
      "[[0.35869957 0.38418291 0.49297503]\n",
      " [0.3127943  0.74203161 0.3825637 ]\n",
      " [0.860766   0.26038532 0.8808117 ]]\n"
     ]
    }
   ],
   "source": [
    "x = np.random.rand(3,3)\n",
    "print('Input')\n",
    "print(x)\n",
    "y = np.random.permutation(x)\n",
    "print('Output x')\n",
    "print(x)\n",
    "print('Output y')\n",
    "print(y)"
   ]
  },
  {
   "cell_type": "markdown",
   "metadata": {},
   "source": [
    "## 3. Distributions\n",
    "\n",
    "The distributions collection of functions are used for generating psuedorandom samples using different probability distributions in which parameters for the distribution can be specified."
   ]
  },
  {
   "cell_type": "markdown",
   "metadata": {},
   "source": [
    "### Uniform distribution\n",
    "\n",
    "References:\n",
    "- https://www.statisticshowto.datasciencecentral.com/uniform-distribution/\n",
    "- https://docs.scipy.org/doc/numpy-1.15.1/reference/generated/numpy.random.uniform.html#numpy.random.uniform\n",
    "\n",
    "A uniform distribution or rectangular distribution has a constant probability for every value in a sample.  It is written a U(a,b) where a is the maximum and b is the minimum value.  To call the function in the random module use numpy.random.uniform(low,high,size).  This is the distribution used in the numpy.random.rand fuctions.\n",
    "\n",
    "The example below shows a uniform distribution for a sample size of 1000 values between -1 and 0.\n"
   ]
  },
  {
   "cell_type": "code",
   "execution_count": 12,
   "metadata": {},
   "outputs": [
    {
     "data": {
      "text/plain": [
       "(array([125., 122.,  98.,  83.,  95.,  83.,  84.,  94.,  90., 126.]),\n",
       " array([-0.99969757, -0.89986476, -0.80003195, -0.70019914, -0.60036633,\n",
       "        -0.50053352, -0.40070071, -0.3008679 , -0.20103508, -0.10120227,\n",
       "        -0.00136946]),\n",
       " <a list of 10 Patch objects>)"
      ]
     },
     "execution_count": 12,
     "metadata": {},
     "output_type": "execute_result"
    },
    {
     "data": {
      "image/png": "[encoded data removed]",
      "text/plain": [
       "<Figure size 432x288 with 1 Axes>"
      ]
     },
     "metadata": {
      "needs_background": "light"
     },
     "output_type": "display_data"
    }
   ],
   "source": [
    "x = np.random.uniform(-1,0,1000)\n",
    "x\n",
    "plt.hist(x)"
   ]
  },
  {
   "cell_type": "code",
   "execution_count": null,
   "metadata": {},
   "outputs": [],
   "source": []
  },
  {
   "cell_type": "markdown",
   "metadata": {},
   "source": [
    "### Normal Distribution\n",
    "\n",
    "References:\n",
    "- https://www.mathsisfun.com/data/standard-normal-distribution.html\n",
    "- https://docs.scipy.org/doc/numpy-1.15.1/reference/generated/numpy.random.normal.html#numpy.random.normal\n",
    "\n",
    "A normal distribution is where data is distributed evenly around a central value with no bias left or right.  The distribution has the following characteristics:\n",
    "- The mean, mode and median are approximately equal \n",
    "- There is symmetry around the centre and ~50% of values are greater than the mean and ~50% of values are less than th mean\n",
    "- The standard deviation is a measure of how the values are distributed around the mean value and 95% of values are within 1 std dev of the mean, 95% within 2 std devs and 99.7% within 3 std devs\n",
    "- The normal distribution is often refered to as a \"bell curve: due to the resultant shape of the plot\n",
    "\n",
    "![Normal distribution](./Images/standard-normal-distribution.jpg)\n",
    "\n",
    "The histogram below shows a normal distribution of 1000 values with a mean of 0 and a standard deviation of 0.1\n",
    "\n",
    "The numpy function numpy.random.normal(loc,scale,size) where loc is the mean, scale is the std dev and size is the sample size.\n"
   ]
  },
  {
   "cell_type": "code",
   "execution_count": 13,
   "metadata": {},
   "outputs": [
    {
     "data": {
      "text/plain": [
       "(array([  9.,  26., 104., 175., 242., 226., 133.,  59.,  23.,   3.]),\n",
       " array([-0.30528697, -0.24206305, -0.17883912, -0.1156152 , -0.05239127,\n",
       "         0.01083265,  0.07405658,  0.13728051,  0.20050443,  0.26372836,\n",
       "         0.32695228]),\n",
       " <a list of 10 Patch objects>)"
      ]
     },
     "execution_count": 13,
     "metadata": {},
     "output_type": "execute_result"
    },
    {
     "data": {
      "image/png": "[encoded data removed]",
      "text/plain": [
       "<Figure size 432x288 with 1 Axes>"
      ]
     },
     "metadata": {
      "needs_background": "light"
     },
     "output_type": "display_data"
    }
   ],
   "source": [
    "x = np.random.normal(0, 0.1, 1000)\n",
    "plt.hist(x)"
   ]
  },
  {
   "cell_type": "markdown",
   "metadata": {},
   "source": [
    "### Chi Square Distribution\n",
    "\n",
    "References:\n",
    "- http://onlinestatbook.com/2/chi_square/distribution.html\n",
    "- https://docs.scipy.org/doc/numpy-1.15.1/reference/generated/numpy.random.chisquare.html#numpy.random.chisquare\n",
    "\n",
    "A sample from a random normal distribution is known as the standard normal deviates and the sum of the square of these is known as the Chi square distribution.\n",
    "\n",
    "The degrees of freedom is the number of independent variables in a sample so in the case of a chi square distribution this will be the number of standard normal deviates.  The mean of a chi square distribution is the degrees of freedom in the sample.\n",
    "\n",
    "Chi square distributions are used to test how observed data differs from thoretical expectations.\n",
    "\n",
    "The numpy.randon.chisquare(df,size) uses the parameters 'df' for the degrees of freedon and size for the sample size.\n",
    "\n",
    "The histograms below show the chi square distributions for 2,10 and 50 degrees of freedom and it can be seen that as the df increses the distribution becomes more representative of the bell shaped curve of the normal distribution."
   ]
  },
  {
   "cell_type": "code",
   "execution_count": 14,
   "metadata": {},
   "outputs": [
    {
     "data": {
      "text/plain": [
       "(array([475., 272., 113.,  60.,  38.,  26.,   7.,   5.,   1.,   3.]),\n",
       " array([1.77598433e-03, 1.27244884e+00, 2.54312169e+00, 3.81379454e+00,\n",
       "        5.08446739e+00, 6.35514024e+00, 7.62581310e+00, 8.89648595e+00,\n",
       "        1.01671588e+01, 1.14378317e+01, 1.27085045e+01]),\n",
       " <a list of 10 Patch objects>)"
      ]
     },
     "execution_count": 14,
     "metadata": {},
     "output_type": "execute_result"
    },
    {
     "data": {
      "image/png": "[encoded data removed]",
      "text/plain": [
       "<Figure size 432x288 with 1 Axes>"
      ]
     },
     "metadata": {
      "needs_background": "light"
     },
     "output_type": "display_data"
    }
   ],
   "source": [
    "x = np.random.chisquare(2,1000)\n",
    "x\n",
    "plt.hist(x)"
   ]
  },
  {
   "cell_type": "code",
   "execution_count": null,
   "metadata": {},
   "outputs": [],
   "source": []
  },
  {
   "cell_type": "code",
   "execution_count": 15,
   "metadata": {},
   "outputs": [
    {
     "data": {
      "text/plain": [
       "(array([ 84., 220., 271., 198., 104.,  62.,  36.,  19.,   4.,   2.]),\n",
       " array([ 2.01193142,  4.66335849,  7.31478555,  9.96621262, 12.61763968,\n",
       "        15.26906675, 17.92049381, 20.57192088, 23.22334794, 25.87477501,\n",
       "        28.52620207]),\n",
       " <a list of 10 Patch objects>)"
      ]
     },
     "execution_count": 15,
     "metadata": {},
     "output_type": "execute_result"
    },
    {
     "data": {
      "image/png": "[encoded data removed]",
      "text/plain": [
       "<Figure size 432x288 with 1 Axes>"
      ]
     },
     "metadata": {
      "needs_background": "light"
     },
     "output_type": "display_data"
    }
   ],
   "source": [
    "y = np.random.chisquare(10,1000)\n",
    "y\n",
    "plt.hist(y, color='g')"
   ]
  },
  {
   "cell_type": "code",
   "execution_count": 16,
   "metadata": {},
   "outputs": [
    {
     "data": {
      "text/plain": [
       "(array([ 23.,  90., 217., 263., 214., 117.,  54.,  17.,   3.,   2.]),\n",
       " array([23.72854392, 30.77517055, 37.82179718, 44.86842381, 51.91505044,\n",
       "        58.96167707, 66.0083037 , 73.05493033, 80.10155696, 87.14818359,\n",
       "        94.19481022]),\n",
       " <a list of 10 Patch objects>)"
      ]
     },
     "execution_count": 16,
     "metadata": {},
     "output_type": "execute_result"
    },
    {
     "data": {
      "image/png": "[encoded data removed]",
      "text/plain": [
       "<Figure size 432x288 with 1 Axes>"
      ]
     },
     "metadata": {
      "needs_background": "light"
     },
     "output_type": "display_data"
    }
   ],
   "source": [
    "z = np.random.chisquare(50,1000)\n",
    "z\n",
    "plt.hist(z, color='r')"
   ]
  },
  {
   "cell_type": "markdown",
   "metadata": {},
   "source": [
    "### Poisson Distribution\n",
    "\n",
    "References:\n",
    "- https://docs.scipy.org/doc/numpy-1.15.1/reference/generated/numpy.random.poisson.html#numpy.random.poisson\n",
    "- https://stattrek.com/probability-distributions/poisson.aspx\n",
    "- http://www.stats.ox.ac.uk/~marchini/teaching/L5/L5.notes.pdf\n",
    "- https://www.ck12.org/section/The-Poisson-Probability-Distribution/\n",
    "\n",
    "This applies to situations when a count for the number of occurences of an event is observed within a set unit of time, these situations are known as Poisson experiments and result in a poisson distribution.  The poisson distribution is the discrete probability distribution of events occuring randomly in a given time interval.  An example of a poissson experiment is the number of births per hour during a given day.\n",
    "\n",
    "In a poisson distribution each event is independent of all others and the probability of an event occuring in a given time, distance, area or volume is the same.\n",
    "\n",
    "The python syntax required is numpy.random.poisson(lam=1.0, size=None)\n",
    "where lam is the observed time interval and sixe is the sample size."
   ]
  },
  {
   "cell_type": "code",
   "execution_count": 17,
   "metadata": {},
   "outputs": [
    {
     "data": {
      "text/plain": [
       "(array([ 40.,  73., 317., 165., 159., 172.,  31.,  39.,   1.,   3.]),\n",
       " array([ 0. ,  1.4,  2.8,  4.2,  5.6,  7. ,  8.4,  9.8, 11.2, 12.6, 14. ]),\n",
       " <a list of 10 Patch objects>)"
      ]
     },
     "execution_count": 17,
     "metadata": {},
     "output_type": "execute_result"
    },
    {
     "data": {
      "image/png": "[encoded data removed]",
      "text/plain": [
       "<Figure size 432x288 with 1 Axes>"
      ]
     },
     "metadata": {
      "needs_background": "light"
     },
     "output_type": "display_data"
    }
   ],
   "source": [
    "x = np.random.poisson(5, 1000)\n",
    "x\n",
    "plt.hist(x)"
   ]
  },
  {
   "cell_type": "markdown",
   "metadata": {},
   "source": [
    "### Exponential Distribution\n",
    "\n",
    "References:\n",
    "-  https://www.youtube.com/watch?v=bKkLYSi5XNE\n",
    "- https://www.statisticshowto.datasciencecentral.com/exponential-distribution/\n",
    "- https://en.wikipedia.org/wiki/Exponential_distribution\n",
    "- https://docs.scipy.org/doc/numpy-1.15.1/reference/generated/numpy.random.exponential.html#numpy.random.exponential\n",
    "\n",
    " The Exponential distribution describes the time taken between two events occuring in a poisson experiment.  If we consider the poisson experiment to be the number of births per hour during a given day the then exponential distribution can be used to model the time in between the births.\n",
    " \n",
    "Exponential growth is an increase in the rate of change over  unit of time so an exponential distribution can be throught of as the rate of change over a unit of time.  The input parameters for numpy.random.exponential are scale and size.  Scale is refered to as the [rate parameter](https://www.statisticshowto.datasciencecentral.com/rate-parameter/) and is the number of events per interval and is defined mathematicaly as the inverse of the scale parameter:\n",
    "\n",
    "![rate_parameter](./Images/rate_parameter.png)\n",
    "\n",
    "The code block below shows and exponetial distribution of 10000 data points with a rate parameter of 0.0001."
   ]
  },
  {
   "cell_type": "code",
   "execution_count": 18,
   "metadata": {},
   "outputs": [
    {
     "data": {
      "text/plain": [
       "(array([5.957e+03, 2.359e+03, 1.035e+03, 3.720e+02, 1.600e+02, 6.500e+01,\n",
       "        3.600e+01, 9.000e+00, 1.000e+00, 6.000e+00]),\n",
       " array([1.11937315e-08, 9.00861485e-04, 1.80171178e-03, 2.70256207e-03,\n",
       "        3.60341236e-03, 4.50426265e-03, 5.40511294e-03, 6.30596323e-03,\n",
       "        7.20681352e-03, 8.10766381e-03, 9.00851410e-03]),\n",
       " <a list of 10 Patch objects>)"
      ]
     },
     "execution_count": 18,
     "metadata": {},
     "output_type": "execute_result"
    },
    {
     "data": {
      "image/png": "[encoded data removed]",
      "text/plain": [
       "<Figure size 432x288 with 1 Axes>"
      ]
     },
     "metadata": {
      "needs_background": "light"
     },
     "output_type": "display_data"
    }
   ],
   "source": [
    "y = np.random.exponential(0.001,10000)\n",
    "y\n",
    "plt.hist(y)"
   ]
  },
  {
   "cell_type": "markdown",
   "metadata": {},
   "source": [
    "## 4. Seeds\n",
    "\n",
    "References:\n",
    "- https://www.packtpub.com/mapt/book/big_data_and_business_intelligence/9781785285110/2/ch02lvl1sec16/numpy-random-numbers\n",
    "- https://www.oreilly.com/library/view/python-for-data/9781491957653/\n",
    "- https://docs.scipy.org/doc/numpy-1.15.1/reference/generated/numpy.random.RandomState.html#numpy.random.RandomState\n",
    "-https://stackoverflow.com/questions/22994423/difference-between-np-random-seed-and-np-random-randomstate\n",
    "\n",
    "The random numbers in numpy are known as psuedorandom numbers because they are generated using an algorithim and deterministic behaviour based on the seed of the random state generator. The algorithim used is called the Mersenne Twister and this requires a seed or a base value from which to generate numbers. The seed is an integer value between 0 and 2**32 and does not need to be random so that specific seeds can be used to obtain a known sequence of numbers.\n",
    "\n",
    "numpy.random.seed() is the function that is used to reset the integer value for the seed.  The code block below shows how numpy.random class can be reseeded and with duplicate calls produce the same results."
   ]
  },
  {
   "cell_type": "code",
   "execution_count": 19,
   "metadata": {},
   "outputs": [
    {
     "name": "stdout",
     "output_type": "stream",
     "text": [
      "Seed 1\n",
      "[0.19151945]\n",
      "[0.62210877]\n",
      "[0.43772774]\n",
      "Seed 2\n",
      "[0.19151945]\n",
      "[0.62210877]\n",
      "[0.43772774]\n"
     ]
    }
   ],
   "source": [
    "np.random.seed(1234)\n",
    "print('Seed 1')\n",
    "print(np.random.rand(1))\n",
    "print(np.random.rand(1))\n",
    "print(np.random.rand(1))\n",
    "\n",
    "np.random.seed(1234)\n",
    "print('Seed 2')\n",
    "print(np.random.rand(1))\n",
    "print(np.random.rand(1))\n",
    "print(np.random.rand(1))"
   ]
  },
  {
   "cell_type": "markdown",
   "metadata": {},
   "source": [
    "The random.RandomState is a container for methods of generating pseudorandom numbers from a variety of probability distributions.  \n",
    "\n",
    "The main difference is that seed calls to np.random whereas RandomState creates an instance of the class random that can be duplicated provided the seed, call and parameters are known.  Here the class has been captured as 'r' and recalled."
   ]
  },
  {
   "cell_type": "code",
   "execution_count": 20,
   "metadata": {},
   "outputs": [
    {
     "name": "stdout",
     "output_type": "stream",
     "text": [
      "RandomState 1\n",
      "[0.19151945]\n",
      "[0.62210877]\n",
      "[0.43772774]\n",
      "RandomState 2\n",
      "[0.19151945]\n",
      "[0.62210877]\n",
      "[0.43772774]\n"
     ]
    }
   ],
   "source": [
    "r = np.random.RandomState(1234)\n",
    "print('RandomState 1')\n",
    "print(r.rand(1))\n",
    "print(r.rand(1))\n",
    "print(r.rand(1))\n",
    "\n",
    "r = np.random.RandomState(1234)\n",
    "print('RandomState 2')\n",
    "print(r.rand(1))\n",
    "print(r.rand(1))\n",
    "print(r.rand(1))\n"
   ]
  },
  {
   "cell_type": "markdown",
   "metadata": {},
   "source": [
    "## Summary\n",
    "\n",
    "Numpy.random provides a useful package for generating psuedorandom numbers in multidimensional arrays.  Complete randomness is impossible to achieve for systems based on logic but using seeds, parameters and calls this package can provide psuedorandom values and has the abiltity to model these using a variety of probability distributions to represent real world experiments and scenarios.  "
   ]
  },
  {
   "cell_type": "code",
   "execution_count": null,
   "metadata": {},
   "outputs": [],
   "source": []
  }
 ],
 "metadata": {
  "kernelspec": {
   "display_name": "Python 3",
   "language": "python",
   "name": "python3"
  },
  "language_info": {
   "codemirror_mode": {
    "name": "ipython",
    "version": 3
   },
   "file_extension": ".py",
   "mimetype": "text/x-python",
   "name": "python",
   "nbconvert_exporter": "python",
   "pygments_lexer": "ipython3",
   "version": "3.7.0"
  }
 },
 "nbformat": 4,
 "nbformat_minor": 2
}
